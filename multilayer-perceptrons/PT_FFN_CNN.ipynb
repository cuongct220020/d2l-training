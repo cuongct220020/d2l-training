{
  "nbformat": 4,
  "nbformat_minor": 0,
  "metadata": {
    "colab": {
      "provenance": [],
      "toc_visible": true
    },
    "kernelspec": {
      "name": "python3",
      "display_name": "Python 3"
    },
    "language_info": {
      "name": "python"
    }
  },
  "cells": [
    {
      "cell_type": "code",
      "execution_count": null,
      "metadata": {
        "id": "pw1TycOWXVK8"
      },
      "outputs": [],
      "source": [
        "# LAB 1 : Multi-layer Perceptron  (MLP) and Convoutional Neural Network (CNN) in PyTorch\n",
        "# Applied Deep Learning - IT4653\n",
        "# School of Information and Communication Technology\n",
        "# Hanoi University of Science and Technology\n"
      ]
    },
    {
      "cell_type": "markdown",
      "source": [
        "[EN]\n",
        "<h3> Part 1 : Multi-Layer Perceptron (MLP) in PyTorch </h3>\n",
        "\n",
        "In deep learning, a multilayer perceptron (MLP) is a modern feedforward neural network consisting of Fully Connected (FC) neurons with linear or nonlinear activation functions, organized in layers. This modern neural networks are trained using Gradient Descent algorithm (GD).\n",
        "\n",
        "[VN]\n",
        "\n",
        "<h3> Phần 1 : Lập trình mạng nơ ron perceptron đa tầng với PyTorch </h3>\n",
        "\n",
        "Trong học sâu, một mạng nơ ron perceptron đa tầng (MLP) là một dạng mạng nơ ron truyền thẳng bao gồm các nơ ron kết nối đầy đủ (FC) với các hàm kích hoạt tuyến tính hoặc phi tuyến, được tổ chức dưới dạng các tầng. Dạng mạng nơ ron được huấn luyện dùng giải thuật tụt dốc vec tơ tiếp tuyến (GD).\n"
      ],
      "metadata": {
        "id": "sJmPnnzkXtXt"
      }
    },
    {
      "cell_type": "markdown",
      "source": [
        "[EN]\n",
        "\n",
        "The famous MNIST dataset of handwritten digit recognition will be employed to build and train a Feed Forward Network (FFN) then a Convolutional Neural Network (CNN). The MNIST consists of 60K training images and 10K test images which were labeled by 10 digit classes from '0' to '9'. The MNIST dataset images are 28x28 pixels in size. Each image is a grayscale representation of a handwritten digit, with pixel values ranging from 0 (white) to 255 (black).  \n",
        "\n",
        "\n",
        "[VN]\n",
        "\n",
        "Bộ dữ liệu nhận dạng chữ số viết tay MNIST được sử dụng để xây dựng một mạng nơ ron truyền thẳng (FFN) và một mạng nơ ron tích chập (CNN). Bộ dữ liệu MNIST gồm có 60K hình ảnh huấn luyện và 10K hình ảnh kiểm tra chúng đã được gán bởi mười nhãn là các chữ số từ '0' đến '9'. Hình ảnh trong bộ dữ liệu MNIST kích thước là 28x28 điểm ảnh. Mỗi hình ảnh là một biểu diễn đen trắng của một ký tự số, với giá trị điểm ảnh là số nguyên chạy từ 0 (trắng) đến 255 (đen).   \n",
        "\n",
        "\n",
        "\n",
        "\n",
        "\n",
        "\n",
        "\n"
      ],
      "metadata": {
        "id": "GcbsbM8N903c"
      }
    },
    {
      "cell_type": "markdown",
      "source": [
        "[EN]\n",
        "\n",
        "<h3> MNIST dataset loader </h3>\n",
        "\n",
        "We need download the MNIST dataset from torchvision.datasets then transform it to tensors and then use torch.utils.data.Dataloader\n",
        "\n",
        "[VN]\n",
        "\n",
        "\n",
        "<h3> Tải bộ dữ liệu MNIST </h3>\n",
        "\n",
        "Ta cần tải bộ dữ liệu MNIST xuống từ torchvision.datasets, chuyển đổi nó sang biểu diễn tensor và sau đó lưu vào lớp torch.utils.data.Dataloader\n"
      ],
      "metadata": {
        "id": "mremohpnG0LB"
      }
    },
    {
      "cell_type": "code",
      "source": [
        "# for MNIST dataset\n",
        "# dành cho dữ liệu MNIST\n",
        "import torchvision\n",
        "import torchvision.datasets as datasets\n",
        "import torchvision.transforms as transforms\n",
        "from torch.utils.data import DataLoader\n",
        "\n",
        "# Download and transform the MNIST dataset\n",
        "# Tải xuống và biến đổi bộ dữ liệu về dạng tensor\n",
        "transform = transforms.Compose([\n",
        "    # Convert images to PyTorch tensors which also scales data from [0, 255] to [0., 1.]\n",
        "    # Chuyển đổi hình ảnh sang tensor PyTorch và chuẩn hoá số nguyên [0, 255]về giá trị số thực [0.,1.]\n",
        "    transforms.ToTensor()\n",
        "])\n",
        "\n",
        "# Download training and test datasets\n",
        "# Tải xuống hai bộ dữ liệu huấn luyện và kiểm tra\n",
        "train_dataset = datasets.MNIST(root='./data', train=True, download=True, transform=transform)\n",
        "test_dataset = datasets.MNIST(root='./data', train=False, download=True, transform=transform)"
      ],
      "metadata": {
        "id": "wrkRdnQCI2tB"
      },
      "execution_count": null,
      "outputs": []
    },
    {
      "cell_type": "code",
      "source": [
        "# Create DataLoaders for batch processing ready to SGD (Stochastic Gradient Descent)\n",
        "# Tạo bộ tải dữ liệu sắn sàng cho kích thước bó sẵn sàng cho SGD\n",
        "BATCH_SIZE = 64\n",
        "trainset_loader = DataLoader(train_dataset, batch_size=BATCH_SIZE, shuffle=True)\n",
        "testset_loader = DataLoader(test_dataset, batch_size=BATCH_SIZE, shuffle=False)"
      ],
      "metadata": {
        "id": "fuEMWuoUOyoo"
      },
      "execution_count": null,
      "outputs": []
    },
    {
      "cell_type": "markdown",
      "source": [
        "[EN]\n",
        "\n",
        "Let's build a simple MLP architecture of only one hidden layer\n",
        "\n",
        "1. Input layer is a flatten of 28x28 pixel values\n",
        "2. Hidden layer is a linear of 256 neurons whose activation function is tanh\n",
        "3. Output layer is a softmax of 10 class neurons\n",
        "\n",
        "\n",
        "![fig_6.png](data:image/png;base64,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)\n",
        "\n",
        "\n",
        "[VN]\n",
        "\n",
        "Hãy xây dựng một mạng nơ ron perceptron đa tầng đơn giản gồm chỉ một lớp ẩn có kiến trúc như sau\n",
        "\n",
        "1. Lớp vào là làm phẳng giá trị 28x28 điểm ảnh\n",
        "2. Lớp ẩn có kích thước gồm 256 nơ ron xếp chồng với hàm kích hoạt là hàm tanh\n",
        "3. Lớp ra softmax gồm có 10 nơ ron chỉ lớp\n",
        "\n",
        "\n",
        "\n",
        "\n",
        "\n",
        "\n",
        "\n",
        "\n",
        "\n",
        "\n",
        "\n",
        "\n",
        "\n",
        "\n",
        "\n"
      ],
      "metadata": {
        "id": "nYZNenruDdMC"
      }
    },
    {
      "cell_type": "markdown",
      "source": [
        "[EN]\n",
        "\n",
        "<h3> Build a simple MLP </h3>\n",
        "\n",
        "In subclass way, we wrapper our model by subclassing the base class torch.nn as usual\n",
        "\n",
        "[EN]\n",
        "\n",
        "<h3> Xây dựng mạng nơ ron perceptron (MLP) đơn giản  </h3>\n",
        "\n",
        "Bằng cách tạo lớp con, ta gói mô hình mạng nơ ron và lớp con của lớp cơ sở torch.nn như bình thường\n"
      ],
      "metadata": {
        "id": "QNUGcL9WJyHh"
      }
    },
    {
      "cell_type": "code",
      "source": [
        "# Import PyTorch and other relevant libraries\n",
        "# Nhập thư viện PyTorch và các thư viện liên quan\n",
        "import torch\n",
        "import torch.nn as nn\n",
        "import torch.optim as optim\n",
        "\n",
        "\n",
        "# Define the fully connected model\n",
        "# Định nghĩa mạng kết nối đầy đủ\n",
        "class MLPModel(nn.Module):\n",
        "    def __init__(self):\n",
        "        super(MLPModel, self).__init__()\n",
        "        self.flatten = nn.Flatten()\n",
        "        self.fc1 = nn.Linear(28 * 28, 256)\n",
        "\n",
        "        # TODO: Define the activation function for the first fully connected layer\n",
        "        # TODO: Định nghĩa hàm kích hoạt cho lớp kết nối đầy đủ\n",
        "        self.tanh = # TODO\n",
        "\n",
        "        # TODO: Define the second Linear layer to output the classification probabilities\n",
        "        # TODO: Định nghĩa lớp tuyến tính thứ hai với đầu ra xác suất\n",
        "        self.fc2 = # TODO\n",
        "\n",
        "    def forward(self, x):\n",
        "        x = self.flatten(x)\n",
        "        x = self.fc1(x)\n",
        "\n",
        "        # TODO: Implement the rest of forward pass of the model using the defined layers above\n",
        "        # TODO: Cài đặt phần còn lại bước tiến của mô hình dùng các tầng đã định nghĩa ở trên\n",
        "        return x\n"
      ],
      "metadata": {
        "id": "IXQ5gBhfLGyR"
      },
      "execution_count": null,
      "outputs": []
    },
    {
      "cell_type": "markdown",
      "source": [
        "[EN]\n",
        "\n",
        "## Selecting device\n",
        "\n",
        "Let's select your device in preferring to GPU then send the model to run on it\n",
        "\n",
        "[VN]\n",
        "\n",
        "Hãy lựa chọn thiết bị phần cứng ưu tiên GPU sau đó gửi mô hình cho nó để chạy\n",
        "\n",
        "\n",
        "\n",
        "\n"
      ],
      "metadata": {
        "id": "CSkbfsWzOqKd"
      }
    },
    {
      "cell_type": "code",
      "source": [
        "# selecting device\n",
        "# lựa chọn thiết bị\n",
        "device = torch.device('cuda' if torch.cuda.is_available() else 'cpu')\n",
        "print(f\"Device: {device}\")\n",
        "# send the model to GPU\n",
        "# gửi mô hình cho GPU\n",
        "mlp_model = MLPModel().to(device)"
      ],
      "metadata": {
        "colab": {
          "base_uri": "https://localhost:8080/"
        },
        "id": "RRXEnsZYRezV",
        "outputId": "727b2453-134d-4a16-c3ca-1934a011b008"
      },
      "execution_count": null,
      "outputs": [
        {
          "output_type": "stream",
          "name": "stdout",
          "text": [
            "Device: cuda\n"
          ]
        }
      ]
    },
    {
      "cell_type": "markdown",
      "source": [
        "[EN]\n",
        "\n",
        "<h3>  Determine loss function and select optimizer </h3>\n",
        "\n",
        "Before training the model, we need to define loss function and to select optimizer.\n",
        "\n",
        "[VN]\n",
        "\n",
        "<h3>  Định nghĩa hàm mất mát và lựu chọn bộ tối ưu </h3>\n",
        "\n",
        "Trước khi huấn luyện mô hình, ta cần định nghĩa hàm mất mát và lựa chọn bộ tối ưu.\n",
        "\n",
        "\n",
        "\n",
        "\n",
        "\n",
        "\n",
        "\n",
        "\n",
        "\n",
        "\n"
      ],
      "metadata": {
        "id": "wEWxbRWYM4oI"
      }
    },
    {
      "cell_type": "code",
      "source": [
        "# Define loss function and optimizer\n",
        "# Định nghĩa hàm mất mát và bộ tối ưu\n",
        "loss_function = nn.CrossEntropyLoss()\n",
        "optimizer = optim.SGD(mlp_model.parameters(), lr=1e-3)"
      ],
      "metadata": {
        "id": "XsNOt04dOA0Y"
      },
      "execution_count": null,
      "outputs": []
    },
    {
      "cell_type": "markdown",
      "source": [
        "[EN]\n",
        "\n",
        "<h3> Train model </h3>\n",
        "\n",
        "Our model is now ready to perform training process which involve feeding the dataset into the subclass, and then learning it in associations between images and labels. The dataset consists of pairs (image, label) that we access iteratively in batch mode.\n",
        "\n",
        "\n",
        "[VN]\n",
        "\n",
        "\n",
        "<h3> Huấn luyện mô hình </h3>\n",
        "\n",
        "Mô hình đã sẵn sàng để thực hiện quy trình huấn luyện theo đó dữ liệu huấn luyện sẽ được gửi cho mô hình, sau đó học nó bằng cách kết hợp giữa hình ảnh và nhãn được gán. Bộ dữ liệu gồm các cặp (hình ảnh, nhãn) mà ta truy cập lặp theo chế độ bó.\n",
        "\n"
      ],
      "metadata": {
        "id": "bQ0ytqHNYBCd"
      }
    },
    {
      "cell_type": "code",
      "source": [
        "# Train model\n",
        "# Huấn luyện mô hình\n",
        "\n",
        "# Set number of loops\n",
        "# Xác lặp số vòng lặp\n",
        "num_epochs = 5\n",
        "# Set the model to training mode\n",
        "# Xác lập chế độ huấn luyện\n",
        "mlp_model.train()\n",
        "# Loop\n",
        "# Vòng lặp\n",
        "for epoch in range(num_epochs):\n",
        " total_loss = 0\n",
        "\n",
        " for images, labels in train_dataset:\n",
        "  # Move tensors to GPU so compatible with model\n",
        "  # Chuyển tensor sang GPU để chạy mô hình\n",
        "  images, labels = images.to(device), labels.to(device)\n",
        "  # Forward pass\n",
        "  # Bước tiến\n",
        "  outputs = mlp_model(images)\n",
        "\n",
        "  # Calculate loss based on model predictions\n",
        "  # Tính toán mất mát dựa theo kết quả dự đoán\n",
        "  loss = loss_function(outputs, labels)\n",
        "  # Clear gradients before performing backward pass\n",
        "  # Xoá đạo hàm trước khi lan truyển ngược\n",
        "  optimizer.zero_grad()\n",
        "  # Automation backpropagate\n",
        "  # Lan truyền ngược tự động\n",
        "  loss.backward()\n",
        "  # update model parameters\n",
        "  # cập nhật tham số\n",
        "  optimizer.step()\n",
        "\n",
        "  # multiply loss by total number of samples in batch\n",
        "  # nhân giá trị mất mát với kích thước mẫu ảnh trong bó\n",
        "  total_loss += loss.item()*images.size(0)\n",
        "\n",
        " # Compute metrics\n",
        " print(f\"Epoch %d , Loss: %6.5f \"%(epoch + 1,total_loss))"
      ],
      "metadata": {
        "id": "e2e71ZvjYQp8"
      },
      "execution_count": null,
      "outputs": []
    },
    {
      "cell_type": "markdown",
      "source": [
        "[EN]\n",
        "\n",
        "<h1> Part 2 : A Convolutional Neural Network (CNN) in PyTorch </h1>\n",
        "\n",
        "A Convolutional Neural Network (CNN) is a type of deep learning model, inspired by the human visual cortex, designed to process data most commonly images or videos. CNNs use specialized layers, including convolutional and pooling layers, to automatically learn highly effective for tasks such as image recognition, object detection, and natural language processing related to visual data.\n",
        "\n",
        "\n",
        "\n",
        "[VN]\n",
        "\n",
        "<h1> Phần 2 : Mạng nơ ron tích chập (CNN) với PyTorch </h1>\n",
        "\n",
        "Một mạng nơ ron tích chập (CNN) là một dạng mạng nơ ron học sâu, lấy cảm hứng từ trung khu thần kinh thị giác của con người, thiết kế để xử lý dữ liệu thường biểu diễn hình ảnh hay đoạn video. Mạng nơ ron cũng dùng cách biểu diễn theo tầng, gồm các tầng tích chập và tầng giảm mẫu, để tự động học hiệu quả cao với các tác vụ như nhận điện hình ảnh, phát hiện đổi tượng và xử lý ngôn ngữ tự nhiên liên quan đến dữ liệu trực quan.\n",
        "\n",
        "\n"
      ],
      "metadata": {
        "id": "OK5ZrT5jWml6"
      }
    },
    {
      "cell_type": "markdown",
      "source": [
        "[EN]\n",
        "\n",
        "\n",
        "<h3> Build a CNN </h3>\n",
        "\n",
        "Let's build a CNN architecture of three hidden layers\n",
        "\n",
        "1. Input layer is a tensor of 28x28 image values\n",
        "2. Hidden layer is a convolutional layer of 7x7 kernel size, stride=1, padding=0 with no. of filters=128 with activation function is ReLU\n",
        "3. Hidden layer is a max pooling layer of 3x3 kernel size, stride=2, padding=0\n",
        "4. Hidden layer is a Linear of 64 column neurons, after flattening the previous layer outputs, with activation is ReLU\n",
        "5. Output layer is a softmax of 10 class neurons  \n",
        "\n",
        "\n",
        "![fig_7.png](data:image/png;base64,iVBORw0KGgoAAAANSUhEUgAAA+wAAAGVCAIAAADrCez/AAAAAXNSR0IArs4c6QAAAARnQU1BAACxjwv8YQUAAAAJcEhZcwAADsMAAA7DAcdvqGQAAIBuSURBVHhe7d0HXBNnHwfwbPYUkCEgggzBBe69R9GKE0UEV91ara/W0WpttdXWUa2t1g0OnHWgYuveW1BERfbee5Pk8l7gmDKSmAQCv+/7ed83z+XkVvK/313unqMLBAIaAAAAAAAoDgb1/wAAAAAAoCAQ4gEAAAAAFAxCPAAAAACAgkGIBwAAAABQMAjxAAAAAAAKBiEeAAAAAEDBIMQDAAAAACgYhHgAAAAAAAWDhz1Bs5cf9/z23ddhsUl5bH1zm66DhnQ25JS8QSQ/uRnZdnC3FopxrMsvzExNTk0jdG1b6zaLo/Nmt8AATUbN397P/k43lWrekIji3IzU5JR8FTMrI1VqGDRW+DxD81Ucf2/33EGWJg6Tf73kn8DV0GYlvzyzwbXf8CXHgnJpRPSx+ROXnw8jqLEbMX7oruH6ykqqOobm1l2/8SukBksZkfzo0C+/HnkYz6MGNBxxF5gftm9KJxsLc4s2Vm1tbGxtbazbki/sHDp06v3t9SJqJACowA/727VTu3Z2lbRrZ9+e4mBf+a2Os0+mUf+sfjV/ez+3iDWZat6gCq/Mb6OurKypZ2LZYeLej/WWelTWhicAaI64kReWdtNhqdu6br+XwKMGluCnPt45uefg+YuHGzBY9quecqnhjVxReugJDzMmXXXssTxqkESK0uOTa/wDeb4zDMmDfrqmi1cqNahBib3A/ML0sLOzLFnkMqj22fA8TUE2LECD4WbHvX/092RTJvml0Ri+/W1qIfWG8K34EP8HV4/8MNFek8F2WPNcrO9Tzd9eSYtYk6vmYqi1YEuKlxv/eH0vZTq70zp/0VYXKmtDwpl4aIb4USc8B07aGWg04+iN48v6GpK7qAqMFj2WHD87P//KrRRFOm3D0Wndo4P5Z3+hi/1/m/Hjo5pOoXBamhor0+kcQzMTFWpQgxJ7gRlKOuadbY3owgMRaycHXXKfAwB1YGkY23Yb4mQmPHpXM7G2bKFEvSF8y8iqU++RnutP3j42wywpKlqsH+hq/vZKVMSaYjUXXe0FW1JMNaNOTjZaZJ0UFSprQ/rsfT6Aoiny/3XqgpORApt5e3a4mFQp+WUYxmN//Xl81d1Bo0dnMOhiVN6acWOiE/nU66pYXdffCnweEPZ65+BGcp2k5Av82asJoBkp+b7U9qVh6H/xv1l2ydFJ4qXkmr+9Yn+nm2o1F1XtBftzMOgSRkNUVrlDiIdmhh95eM2vj7NoOqPWfNtHjRr4KYbB2EVTLJtm3a9D/qMbj7Nqu9edodXGqYOJMtUCACAx2wzsrRIn3ql46Wj21bzOgg3NAUI8NC/Fz//aeSOTYGgNnjS6ZZ0ff06XUcPMmleK533Yv+VUNO79AoB6FL27fjOMOgfMsbVRS4guLm3IUXOv5ijYgC4moXnhvVjbudfPb7mcftuDby9rXfdBbMZxt4nhq65936HiGj9+8ouzR45ffZHIZ/H5mnaDJk2fOsii/OoSIuPN1UtPIlJT09IyBB1mfj/Zjoi7f8rn+uu4Yh1Lhx7DXAZbq5eOF3TnQUSRsooym84vKiosppl0Hd5ZeNsokfz6+tNYgYqqEr04v0Cj3bBeFqUdpNU94RJE1I6B1stfOB9N+Weq8B3h3Pg+iUxNT0tPzzH68oeFfYQTJ9JfX7n8NIqcxfSMHOMxGxb0Fp7A4mWEP79+9JfVv1wO5+qNXP/HzHbCHR6d1arb6B7Cu9p4EXdP3QxKJpcsPaf1hE2zu5XOVZk6507UtVIZkRl0Yd8Bv485AoLG0bfq5TJ9ck/D6pdaVl/g+vHDtw6wXfGAbzTzUvhBZ1F+U6hrRsTejETm24sHD/u+ShGw+DxVq8HT5rn3Mir5Y0T8k3PX/ONSyY2Vrf/Fd4v7Ct5ePn7uQYTA2mXu9D6l4wA0hJq/NETMrgnfG584MqF0QEH0wyu3ghLTRSk2pWr+9or1nW4c1Vy8USvUXg0qEGkB/xw56vswNJOmpN6ibZ9JM6cNtRT+qfoKdhlRJkKj5cW8vH//yYuAkAyV1t1HTxnn8GJumy+Ptvzu2fMNnUSrPWJX1jorPCqrOIR3twI0E/zo3wcKv/MMvWnnC6hhIuNGnFvSw9Jp1p47YRk8gSAv3v/Md0PatnPd/SqbGoMffXG9h8tAW10mnWk271rYhVVT52679CoqOf7NmaVOmhr2888n8MnxeFEXN8xyHWqnTVYlupJ5f/dvjweV3tHP+3BsQW8TNp3O1Gk3dNq2eznCgfVPuAQ/cns/TqWOHfixVzZ/PculYwsmnaY0/O/k0qG8yH++n+YywEY4baUR+9JKB0Zf+e3b//1v2YQOanSGluPkb/5XYsVab6p/goLHf8yeMKy9PpP+Sc8R9c6dqGulHDfEa/bYBfsfxhUIB+e+PzWvs5ZezxVX4qqM9ekC148X9lsfNrn5jWZeFmXz1zMjvKhLP831cG6vw6DT6BzTvlNXHivbjO8PzXA0KNmMdtRm5Kc9+HmEWcuuC44FCtdLUez17/oZGA7c+DBD+A+4gUe+njKqp4U6g8YZtOv1pZWu8/+4dGRBOxWG+oDtwVX62wCQq5q/NNmXZ7efeqZ8gBjFhlLzt1ec73QjqebijVqq7mpQih/vt7qfkbbdlF13Y/P4An5B/ItT340Ztuh8NL/+gi0kykQE3Lhbm8fZWvRfduReaGpGfOBNr/VzFvy6YXxLhui905DEq6z1VXhUVjEgxENzUvRkpZ3w2JvZZvHtis7SRMFP9Vtop2I83pusoJVk3l7aTsnwy/0hlaod1//7jmymyegZSzbcriiX2Wfd9BjszusCysfkhe0cqE5ntllUbVZSD4wyGfHHO2qg6BOuef/Hfb62PbvSfrVU0dNV9qxP9qsFF6cbMMi90PWa1w03cIMTu+oERJ87UdeKQJB+YoKuikHn2T5RZSW28MU6Rw7DYPzRantCGYd40WaEH7t/lDaDaTrnWtU0Er97qHH5ZuQG7/lCn6XrvC+y4h/ygrf1V2PbLL2dSw0QFPjONGKwe0yYNXtPMFdQeGeZtRJDo//W9wjx0HDKvjTaA789fJR0ZN/OzaumOrVga0+pCPGlxCk2nx/iG1U1J4k8qijVIPfJum4aTMPKs5h5db6VEp3Vdtn9ImpIXQVblInwwr0nmXFaDNz8vORsEaXo3R/D9RhidDFJEquyiljhUVlFUvcPUABNDHX1GF2o5JWI8h9s/HpfiPH4RZNMq3xntPoumdU94/LqlScSyq9MpGtoqNOIxAeZjvP6aVPDaDQVKytTJi806F15b2DMNlO/GtlCEHX+6PUcapBQ4Zu3fLe1X9mVduYmzoRrRNdQr+GGL6aGhprYHQkwPvlHYsydqGuFRuSnZxQUJr+5fj+k7E45pY6jR1gzU/47fzOPGiIPIs4Iw8R17ngjWtylo34Z1CChfP93avO2zCvZjETKufU/XEvTGz3HrVL/eUwr1wndGSHH9vmVbX6GpoYag/fqJWe8hzWZevpvfxMTF3ljuW2Tu5YXFI+AnxX7MZj0gRT8MSGnhj5RpFhsRNGYqjlJxFFFqQb8D3/9b+vzAmuP/7mWzyJRlJqYxiWXliHCwooyESL6yNfLzsZbzvx5aZfKV/tw7Dwn92TL7jprUSs8KqtIqnyEAZo4lqGhvvAzT+Tm5IhzO1Duv/tPhPLY7Rw7VfSTXIpp7NjRhJ7md7ja/UUChm33npWf8E3nKLFpguKC/Eq3f7X4cua4VrSE84cuJJf/40y/4+F9PHpQ0xF/wp9gMWVWqcSeO1HWCsNk1oGr3ofP+f40sPyv0nV1tGiCooy0THG22mcSeUY0hs12s2Yk+R48HVM2lEi5eCZ9mKeD8EQhjZZx1edqMsGy79q1Sg/7DD17OyN6pv+zoCq3BHI69epJXZirpG+ITpehUaCrd5qy7ifSL9v+OvzP4+f7XEpKaVUyLDafamTVvFT9o4pQDXhvjh9/ms8w6DWgc8XNRwyDaSfevnwU8HhL74qBtRFhIvwP3n9fS6cb9hva+ZP1wPx000qP6BUelVUEstxUAI0Nw7h7l9bkd5fIiIpMr7fuE8l3zt9OJEcrfvv4RTpBV9HU/PSOHaa2tgZDUOT/5FnVB4UzNLR1atihEUTlMxxqg2ZNtWNm/nvYJ6r0vBaReP5M9gj3dlR9kWTC8iPB3Im0VpRbD3CfPsaOHnLXZ8eq2ZPGjps8Y82FSHI7CKqMJgtE8pnVG+9QDZFnhNN1pmc3pZxbh7zfl55a4ked9GWOdRU+I4dU/C4gKF9Ap8VcXr9wfmVf7/PnqaqzBFX2NIwWRsYi3BgG0ICYhv37llWphtLYqnmp+kYVpRpkvXjxgUdjGJlVvkeVpGzcqUc73Rr+enWiTCT78eNAnoBhYmYqj+1YWlmpXyNErvCorPVDiIdmhdNl1NCS3lbePntWQA2rFffFqWPPs8mqIsjMzCH/j1njaSYmk6yBgsKsrGp/T6RfeDlOnh7dlAoeeHu9FRYpfriPL2fcJKpESThhuZFk7kRZK0SG/6GFfc3N+n97kzlw+Z8+Z08e/tnFQi61ivfxeVBO+XkukWeEaT1txmDN4lfeB58Id1O8QO/bRm6jdEvfpAny8wsFNLp2rwW79lSx1+dhTHZG4G/9Kp9Zo3M4bJlcfAAgPQz97i5DrOQR/2rX2Kp5qXpGFaEa8LOz84RpVklZWcJKIMpEyNXAJyfCUap+Hl4mSisrtTiiV3hU1nohxEPzotRvwbweanQi9cb5/7KoYbXghbxKMGjfiiz1TGMjAwZZMfLyPz3fQ+Tn5wtoDC1Dw9qfNVIHZlv3GUO0eG+OH3pYSOO9OXrHZMroFtR7spywSCe1i59s//Gfiit9qpPN3OW/+HXskK8OpI464f/wwJLhdvrK8qtSRHpQMNfIpLQhzowwjCfOHmMoCD2572omLf/ukdcdPfuV91XHMjUzItdTbmYmlxoCoOjUek53F7H/QZn9gtbYqrkoRKgGTH3jlip08mgjPV28h7GWFmzyhUgTMTIgJ0LLz8uT0dapjKqsJZ8XsSo8Kmt9EOKhmWG2W7Bpnr2yIPHMz7/7V74tqbr8p8eeWUwsKRgs22EDLViC4tiI6E+KalFERAKfodV3SG/JfqljGI2fOdqQCD9z0C/pnndA+2kDK+0+pDBhOodTdv6jEn5aWmYNpZsufGx2xXAiNfh9fO3lURarhUg6vXHL/UytUWt/Hm1UcaqsuLh8NnIvrv7+el0bTnJEgq9vgLaJfslrMWdEa+TsyZaMxEsHzwT5+iQO8mhfkW+Y1sOG2LBpxcGBVS/RLJEfdOdhfK3HSQAKRKxiIw2NrZqLQJRqoNpvSE81Oj/ydUDGJ6Uh/8OjF0llQ2sr2CJNpH/JRKJDQz8dRdrKKisZOMWu8KisdUOIh2ZHvf+mE5uH6BW/2jH/p3ufFslSOY+2/JYwYWn/0kTN6bF4+fAW/NdXL4VWq/vpfhfv5ii1n7d8fNlPfGLTHjlrkiUj6dIfi3dH9Z3mVOWmpc+fMENDR5NNF3CLeZWWtDjo+p1I8g8Kqj7rjaGrq8UQ5OVkU9MqSstltxD28VwLGawWXtjb97kE08zeXosaIlTw4YNwdktwU6NiMqtNTiqIRN/1v95UNjYu2UmIPSNKPWdO68zJvr7Ncy/vS1fzit0TGRucFq4YpU+EnD/+sFr3OkTMiY17S66kqiCjvAPwWUT4XIpTbKSksVXz+olQDRgmbss9LFkFD06ejKg6i0T8yZ92vii7YL/mgi18JdJEpi6b1oaZfuvSjWq/YvDCwmPJNSm1DValsopf4VFZ64QQD82QUvuv/7m+e4L+681jRy71CcqlBpfJeXv8m8mbCuf/5l5eMJitZ+87uNDu3dYFW19UVDxe5Kll311RHb3Ve13PijM3vOSUNAGNSEtOqVx/uSnJGeTQ7Bp+IVXuPXNqR2b2nf+4zlPbVi5RJDEmTE43XSDgpSenVNmVafQZ2E2NCH/3rvxcReGHI/sSLB1ZNCIuPCSfGijE6TSkvxE9+/ndZyUVMfP2E0b3nhW3/VMTyMoo70FAvLkTZa2w2nZz0mPwwu7e+FhegHPub72oPLgTh4iPjubyImMEJqW3YtWywHUojItPFVbywvz8KuW9OPnNhc1ug6YdDiUMW7Uq+ePizEgpVjuPmQPUuaGp1lPGVOu4g2HivufIN53TDy9efjGm/M8RGc9+X/mf4+rpZfdAFCSnZBFEdlJ8Td33ATQI6ksjyIsNj6vhCpQqxCg2NX97xf9ON55qLuqoolQDjaGbvTcM1Hi4cc6WxxU37Ra+O/Kdn+2y6WXdKdZRsEWayPBfvNb15Z1Z+51fxUWTRMaDn9efjCFo/OTw0AxRC5HolVX8worKWjdhZ/EAzRE/PeDYt8422uom3SZ+/dPOQ6cvnPPa9eNyzyHdBsze+yy90lMnyhSEnF/9hZPjYNeF67du3/TNlH6d+87a8zStfExu0I7R1mZGLbS0tLW1tbRbGJvbuu6PLAz4bYS1qaEuNdTAzMp+mlfVp4/yIv4YrGk07Z+KR4RUVc+EeSF/jbMhp0v+deEU9E1at5t1itwXUgqDjsxwNLYcvvTXv70P71q/2GPujkdhe4cL72eiM9iaphMPxVFjCviJ19YOMtO1Gr74x41fT3Tb/Lj08YVVJqChod3SYsTWN+UPAqln7sRYKyXj5wTsn9WzVYs2w5duO3T00I41c2esPhVamHRlaSctNbMug11Wno8rrnuBP8EL3TvJwcJAnU3ddEanc7RbWds7kOxtLU301MpueKJru54uf7KICDNS7UOSdnqKScc1z2t5REph+KXvnNvb9nFb8cvO3VvXfjXOZe7frzJL37q9qodlq5Y6JWtDU0NT18Sqw3Tv+Gp/HkB+yC+Na4e2Ji001NQ1hB9L8nOppq7dsrVN+14r/qv14UoiFJuav731FLH6NGg1jxKzxAnVUQ3KcONubBrrYGIzeNbaX3f+/tMyzwmztz+smEGhWgp2GVEmEu23/kunLl9+/dtB7/1bVsyeMm3N2aBDY0rudqWzVA16/fCUGrMmElVW8QsrKmvt6OR/S9cxQPOUH/P0X7/7gZFxyTkMbcM2HQeNdu5pVn7rTA2I/KTggHcpapadHcw0qp04l1hh9JtwFYd2NXS9XOGzJlyU9N7/XVQ6T9OiYxc7A05x9PP7EXxdPX09fQMDPQ2lytMtTn737E2iUtuuTuYadc1PVdJdLUROVOCb0IR85Vb2nRyMS38GJ3ITorPUTU2kttJFIdaMpJ2eNS9+zcmllnXMIVGY9OFlYDyhb+PY3lRN9PULoCjEKDZS1jiquehEqQZFKR9evYnh6rbt2LG1Vk2j1FewRZgIkZ/4wf9tIsPEwdHOQIkf9/JOSJG2HklfX19HVRbrRbwKj8paK4R4AABp4EfsnrxOa7fXtJbNZgcCACBjqKx1wCoBAJBIzr1No7v39TwQVHIxZvGrwzeMPMZiPwMA8BlQWUWHtQIAIAl+8pOr/z57dPnmuwJyRxO87/eIUUsHqVNvAgCABFBZxcD84YcfqJcAACAyhpapavi9lB7uA/nPvLcezpm8dXl3Teo+LgAAkAQqqxhwTTwAgMRyPt7993mShkO/AR0NS3p0AACAz4TKKhqEeAAAAAAABYNr4gEAAAAAFAxCPAAAAACAgkGIBwAAAABQMAjxAAAAAAAKBiEeAAAAAEDBIMQDyAdRnJsWH/4hNCGfGlA7MUYFAGgexCmMKKLQLKCLSWjO+GH73Mdve5pZTGexWSwGTcDnc7l8hqrRhF23Nw9RKr6/fsT8ExG5PAabzWIyaASfx+USbM2O845d+KYD+e+J5EdHDj5g9HN3723MKv2TNSm8Mr+d68HIfK5AwO607tnzDZ1qHVmMUWWhdIU8ySims1lsJpNOLjJfwGArKSlpjfzt1pahTai/3uKkgCcx+t26mChTAxoGL+7uqZf6479s17CzASAZyWvo2W86kMVN+jUURVReGryG5kY+vf8sKDQuT61V2/bd+nY1V6PeaE7IEA/QrPEL08POzrIk6zxdbeAvz+NzeNQbpXh5SW92OeswaDSmyZQjH1IL+NQbAkGe7wxDcjhd08UrlRpUG15u/OP1vZTp5E7Fn9y31EWMUWWj0gpR7bPheVqDzIRs8cL+Gq5Np3H6/x5VsTnljJfx3u+vxQOM2ZyBO6MbbC4APl9jq6EoorLXwDU058Xf88dPmL1m64Gz125c2r/GuY2WUTfP3U8yqfebDVxOA80eQ0nHvLOtEZ0stxoW7R2M1JnUG6WYqgY2HS11ya8Kw6BtJ8sWyhVfGk5LU2NlOp1jaGaiQg2qDVPNqJOTjZYoj44WY1TZqLRCNK2dHHTlehpLTooItpaRwzi3IcIEIWeFV5c62bS16z5+ve+L1+8SudRgAEXV2GooiqgcNGANJWJOLlrxbNCOk/s3LZ81fvjg0bM3nT6xwCDA+2uXKX+941FjNQ/y34EBNF611nx6je+wuq6/Ffg8IOz1zsGq1KC6MOgif9/EGFWmGm4nKFtMu4W+kXGBPnPsOdQQOVIesf15cMj7FzdP7fDsrIkaDE1Jo6mhKKKy1YA1lB9xcrfPnUNuvaafTiaoYaqdx4ywYvITr+/Y97iYGtYsYAcC8BkYWm2cOjTwVdWgaBgMFF6AUqihIC6+gDw0EvDSYuPzym/qZCgpccjjJSIjLbUs2DcL2JcAAAAAgCJgWi85/p/338duHJtvUX7hVnFUZDyfRlfu0KUTmxrULKB3GgDywD586wDbFQ/4RjMvhR90/uSkUPG9pfaDd4bSO697/mxDR+rqRl7E3VM3g5JTU9PSc1pP2DS7W/UfFfNiXt6//+RFQEiGSuvuo6eMc3gxt82XR1t+V0NvCSKPSmS+vXjwsO+rFAGLz1O1Gjxtnnsvo5IxiIw3Vy89iSBnJy1D0GHm95PtiLj7p3yuv44r1rF06DHMZbC1esmfEEk9K6QGRGbQhX0H/D7mCAgaR9+ql8v0yT0NqXknMoLuPIgoUlZRZtP5RUWFxTSTrsM7C6+kJJJfX38aK1BRVaIX5xdotBvWy0K4GutYzPgn5675x6Wmpqdl63/x3eK+greXj597ECGwdpk7vU/pOHXKC7580PtWjFoX13mTuwiv0m1IpR+s6L47Q28sMcUZFVBgDV1DRR5XXjVU/CIq1RoqwyLaqGpombx/59k774uzmHf1xV9DtaiBzULp/a0AzRov7Lc+5NE7w2jm5QJqUGVFd7+2Iisbu/O6gIpOBgoe/zF7wrD2+kw6XXXssTxqaClu3K3N42wt+i87ci80NSM+8KbX+jkLft0wviXjk94SRB+Vn/bg5xFmLbsuOBaYTTaLYq9/18/AcODGhxkl70ZfXO/hMtBWl0lnms27FnZh1dS52y69ikqOf3NmqZOmhv388wmidyJQzwqpjhviNXvsgv0P40q6nch9f2peZy29niuuxJVOkRd16ae5Hs7tdRh0Gp1j2nfqymNBpUvGe39ohqMBm05n6tgNnbbtXk59i8kNPPL1lFE9LdQZNM6gXa8vrXSd/8elIwvaqTDUB2wPrtonxqcKA3fPmvX7najYU1MMtQfs+FDf+LJW+sFC7zSg+Bqwhoo+rjxrqJhFVJo1VJZFtLHV0FIZ99Z00eCYjv79hXB5mxWEeIDyckvnGHfo1/9T/RxNVejVd0AluIEbnNjVdkC8cO9JZpwWAzc/F5bTMkXv/hiux6jW5ZkYo3KD93yhz9J13hdZsRvhBW/rr8a2WXo7lxog4Pp/35HNNBk9Y8mG2yX1ukT2WTc9Rg1zXzvx9j/pJyboqhh0nu0TVVbRC1+sc+QwDMYfrbTT48fuH6XNYJrOuVZlb82P3z3UeMQf7wpLWqItZoHvTCMGu8eEWbP3BHMFhXeWWSsxNPpvfV/3DqXo+Y8Tl15LJ1/lnp2iS1dyPlSximrE+7B9kDZbnDNNDIaq3Td3ShdFBAjx0FQ0VA0VY1z51lDxiqgUa6gsi2jjqqG86Jt//bhm6axxvS2MnWb//ShB9I3TdCDEA1SUWwO3E1EJn4q+OEd46V0NJZwfub0fp8oOiB91YHQLBstuxePqZSj78GglWuWdijijJp+c3JLBMPS8WF6DhfixfwxSYuhNOVN2+oEX+mtvNp2pM/ZIUqVYyA1Y15lN1xh/oso/rotY+x9+7O7B5A6aab7gRvmCcJ+vcSAnOe5Y5RMj2b6zTJgMw6lnhTuBMjlXFrj8+Lp0QUVdzJLwS+dYzPej1nthckK9PTFnX/xqzM9vhbuo3MszTRjMNovvFpW+U6vEq+smjRo5XHQjR45deFT0k1MI8dBUNEwNFWNceddQsYqo9GqoTItoY6uhBQkf/F89f+h3fMeSQW1aOY39/kJ4ffPT5CDEA9Rbbmv8KbjEJzsgXtBPXck9QKu5/1XfpwjyvMdU2amIMaog9cgYTTqNM3h3fNW0V3hrYWsmy3bFY6pdsgOisXturvKjKO/dpm5smtIXByoX/jqJFeLJWhpx++jhC2/SKp34CfuNnJHq8bTo8Qo7Fl1z5N7yofzkY9Mn/1X2tBBRF7N0/6M+9qgYT/bgffDaeipSuFoyzkzRpzPtVj5p8HqPEA9NRYPUUHHGrbe4UOVAWjVUzCIqrRoq8nJKUEQbYw0tU/Dm1wFaDLbR0G0vRNllNR24lwpAmrIfPw7kCRgmZqbkHqtuYoxa/C4gKF9Ap8VcXr9wfmVf7/PnqaqzBFU7xmVoaOtUfdpKCYKQ3l3sRPKZ1Rup1zSacusB7tPH2NFD7vrsWDV70thxk2esuRBJ0GiCqpPkdJ3p2U0p59Yh7/elD+TgR530ZY51NSstROItJqOFkbEYHdMxbTyWTzJnknN+6bhfKqvT5GlOcu/fGADqI0ZhFGPcxldDS4voHaohpRoq0yLamGuocvs5C77Q5SfcWLdo2+vm1FE8QjyAFPEzM3P4ZM3lKClRQ2olxqg0QX5+oYBG1+61YNeeKvb6PIzJzgj8rR81IqXm56pIE+/j86Ac6jW5N8rwP7Swr7lZ/29vMgcu/9Pn7MnDP7tY1FBdmNbTZgzWLH7lffBJEdnkBXrfNnIbpVv6ppiLSedw2OIvJ5Hwz/HrmZxuk93s6o8IACBn4hRGMcatv7hUzaOyr6GlRbRsqlKqoWIup0RFtDHUUD6fT70qp+7Y2YZJE+Q9P3jgoXDNNBMI8QBSxNQ3MhDev5WfV/EQilqIMSqNZWpmxKAJcjMzG8kz+on0oGCuEdXIf/Hr2CFfHUgddcL/4YElw+30Kz1VvTqG8cTZYwwFoSf3Xc2k5d898rqjZ7/yJzXKYTH5kad97uWp9pkyqU0N59mq4Ud6z+xia20lOmubjs5bXzavx34DSJM4hVGMcRtdDaWKqEnJa6nVUDksZ4PX0Kyba3q10tKzczv4sXKSZ2pqqQvXGpEQHd1YtrEcIMQDSJNq/yE91ej86NDQen/RE2NUpvWwITZsWnFwYNCn4+YH3XkYT72WEyLB1zdAu3T3QySd3rjlfqbWqLU/jzaqKOrFxeV1NPfi6u+vl58a0Ro5e7IlI/HSwTNBvj6JgzzaV5zMkf1i8oN9fB4XaQ5yG9+KQc750ZkLzuVRb9WEzWaxlTjiYLPZTFRVAMmJURjFGLf+4iLn53xSRVRf+FK0Gkq9rrOGyn45G7yGFgf5nXuemJcZfOHS41xqmBA/OytXuGwMAxMTdumg5gC7G4AKtZ7NEfmZaAyTqcumtWGm37p0I4saROGFhccKr3As/1NijEpjOS1cMUqfCDl//GG1gknEnNi4961cz/0Sib7rf72pbGxc0uKFvX2fSzDN7O0rP2Gj4MOHyLKzJNzUqJjMilMmSj1nTuvMyb6+zXMv70tX88onc8RbTFG3SQV+5JWrATztIZPHGJL7n9jz/zEGDlSj3qsB02TKvsev374T3du3Ly4s6yzGb8ylm1j8JQFonGr9LMuihoozbqOqoRVFVFgsRKyh1GtSHTVU1kW04Wsoq7V1G1V14w4jls8fqUENE8oPeP2RT6OzWn85sVf9V2I1GQjxADRaYVx8KlnNBHlJcemf1nJ+ZmxiNrk/INIT4vLI/6+El5ySLhDwsjIyy4drDP/Fa11f3pm13/kllw8kMh78vP5kDEHjJ4eHZpRVZjFGZZi47znyTef0w4uXX4wpn0Ui49nvK/9zXD3djBpAzk+agEakJadUhGZyD5CSnEEOzU5Przy0LtQKoRXm51dZH8XJby5sdhs07XAoYdiqVckgVttuTnoMXtjdGx/LR825v/Wi8uBOHCI+OprLi4wRmFS+74zVzmPmAHVuaKr1lDH6VUuQiItZkJySRRDZSfE5oi5QKUFmVo6A5dCntw65jq7tfOCwcEz5taQNoDgpNDqDIPfnUeHVPlcACqaBaqgY49ZXXKhSJK0aKmIRFRZGEWso9Y5QHTVU1OWUsIg2fA1lGLt+O8fOqPe8eUMMKhadH+r195U0gZL1zO1r+1dcXdQMkMepAM0VL3Sva4e2Ji001TU0tUlaGurq2i0t7Hp+e13YY1nRvXUD27Ux0tFQ19ASvq2poaaha2Ll8OW21wJeyF/jbMyMWmgL39HQIP/ViK1vyjtP40b7rf/SqcuXX/920Hv/lhWzp0xbczbo0JiS8wN0lqpBrx+eUmOKMmp5N16F4Ze+c25v28dtxS87d29d+9U4l7l/vyrtIYwbtGO0NTk/WsL50dJuYWxu67o/sjDgtxHWpoa61FADMyv7aV5xJf+gRuQKmeRgYaDOpm7rotM52q2s7R1I9raWJnpqZXdB0bVdT5f365wTsH9Wz1Yt2gxfuu3Q0UM71sydsfpUaGHSlaWdtNTMugx2WXmeeuxgubTTU0w6rnlerbO5MnUsZuHtVT0sW7XUKVkgTQ1NcnN0mO5drTO12nHf/+VsYj3hl79+njd50bFw0TojljZu4O9jO9lZmuiWf+zIF9otzaztneadqefZKQCNi+Q1lPvZNbS8MIpRb6VTQ0vGr4VERVTaNVR2RbRR1FBe9NUNE/oNmLT0p93Hr9y7f+3Imi8sVLXauW65GVvbCmmq6OR/Sz9PACBlRH7iB/+3iQwTB0c7AyV+3Ms7IUXaeiR9fX0d1Sq/gYoxKo0oTPrwMjCe0LdxbG+qVu00TIMhcqIC34Qm5Cu3su/kYFz6AyuRmxCdpW5qolF1AWi0tNOz5sWvObnUsvoblchoMfkZH5/6J6jadO1k0qzO1wAoILEKoxj1tnnUUBktZyOpofyU19eu3n/zMTyZ0Lfu0Klb/4FO4nQ63EQgxAOAnPEjdk9ep7Xba1rLxrL3BABQHKihUArbHwBkLefeptHd+3oeCCq5QrP41eEbRh5jsfcBABAJaijUCB8BAJAxfvKTq/8+e3T55rsCcvcTvO/3iFFLB6lTbwIAQJ1QQ6FmzB9++IF6CQAgCwwtU9Xweyk93Afyn3lvPZwzeevy7prUzV0AAFA31FCoGa6JBwB5yPl499/nSRoO/QZ0NGxGvfgCAEgFaih8AiEeAAAAAEDB4Jp4AAAAAAAFgxAPAAAAAKBgEOIBAAAAABQMQjwAAAAAgIJBiAcAAAAAUDAI8QAAAAAACgYhHgAAAABAwSDEAwAAAAAoGIR4AAAAAAAFgxAPAAAAAKBgEOIBAAAAABQMQjwAAAAAgIJBiAcAAAAAUDAI8QAAAAAACgYhHgAAAABAwSDEAwAAAAAoGIR4AAAAAAAFgxAPAAAAAKBgEOIBAAAAABQMQjwAAAAAgIJBiAcAAAAAUDAI8QAAAAAACgYhHgAAAABAwSDEAwAAAAAoGIR4AAAAAAAFgxAPAAAAAKBgEOIBAAAAABQMQjwAAAAAgIJBiAcAAAAAUDAI8QAAAAAACgYhHgAAAABAwSDEAwAAAAAoGIR4AAAAAAAFgxAPAAAAAKBgEOIBAAAAABQMQjwAAAAAgIJBiAcAAAAAUDAI8QAAAAAACgYhHgAAAABAwSDEAwAAAAAoGIR4AAAAAAAFgxAPAAAAAKBgEOIBAAAAABQMQjwAAAAAgIJBiAcAAAAAUDAI8QAAAAAACgYhHgAAAABAwSDEAwAAAAAoGIR4AAAAAAAFgxAPAAAAAKBgEOIBAAAAABQMQjwAAAAAgIJBiAcAAAAAUDAI8QAAAAAACgYhHgAAAABAwSDEAwAAAAAoGIR4AAAAAAAFgxAPAAAAAKBgEOIBAAAAABQMQjwAAAAAgIJBiAcAAAAAUDAI8QAAAAAACgYhHgAAAABAwdAFAgH1EgCaPS6X2+RrApvNptPpVAMAAEAxIcQDQIXAwMDi4uImnHHJimdvb6+srEy1AQAAFBMupwGA6sik21ThHDwAADQNCPEAAAAAAAoGIR4AAAAAQMEgxAMAAAAAKBiEeAAAAAAABYMQDwAAAACgYBDiAQAAAAAUDEI8AAAAAICCQYgHAAAAAFAwCPEAAAAAAAoGIR4AAAAAQMEgxAMAAAAAKBiEeAAAAAAABYMQDwAAAACgYBDiAQAAAAAUDEI8AAAAAICCQYgHAAAAAFAwdIFAQL0EgKYiJycnLy+Paojj/fv3xcXFVKNxU1NTU1FRoRoio9Pp7dq1U1ZWptpQoqioKCMjg2o0buQWbNmyJdUAAGjGEOIBmqDY2NikpCQy7lBtkYWEhHC5XKrRuJFJTldXl2qIDCG+RllZWaGhoRJ8YOSsdIfl5ORU2gQAaM5wOQ1Ak0UmHnFR/7LRa/xxU+EwGAzqQ9CIkfOJTQ8AUAohHgAAAABAwSDEAwAAAAAoGIR4AAAAAAAFgxAPAAAAAKBgEOIBAAAAABQMQjwAAAAAgIJBiAcAAAAAUDAI8QAAAAAACgYhHgAAAABAwSDEAwAAAAAoGIR4AAAAAAAFgxAPAAAAAKBgEOIBAAAAABQMQjwAAAAAgIJBiAcAAAAAUDAI8QAAAAAACoYuEAiolwDQyOTl5YWFhdHpdKotssTExPT0dKohjujoaB6PRzVkj6w/qqqqenp6VFtk5DoxMDDQ1dWl2iIj/2G7du2UlZWpdpMTGBhIvRJHTk5ObGysPHcH5LRMTU0l2BDkFnR0dKQaALKRnJx8+vRpPp9PtWWM/DpkZWX16dNn8ODB1CAAESDEAzRe2dnZISEhVEMcSUlJkoX4mJgYeYZ4kpKSkrGxMdUQGUJ8jch6/urVK6ohjtzcXDmHeJK5uTl5CEc1RIYQD7JGfh327NmTn59PteVl9erVHA6HagCIAJfTADRqDEYT/5KSmYx6Bc1Jk/9gg4LicrleXl6FhYVUWy5UVFSWLVuGBA/iQhkFAAAAEP6WderUqYyMDIIgqEGyx2KxPDw8NDU1qTaAyBDiAQAAAGhXr16NioqS26XwJCaTOWnSJENDQ6oNIA6EeAAAAGjunj59GhAQIM+bglgs1rBhw9q2bUu1AcSEEA8AAADN2sePH69fvy7nBN+5c+du3bpRbQDxIcQDAABA85WYmHjmzBl5XkVDJnhzc/ORI0dSbQCJIMQDAABAM5Wdne3t7S3Pc/AMBkNHR8fV1RV9c8FnQogHAACA5qi4uFj+HUoqKyt7eHiw2WyqDSAphHgAAABodgiC8PHxycrKkudjzsjs7unpqa6uTrUBPgNCPAAAADQ7ly9fjo2NlXOHkq6urgYGBlQb4PMgxAMAAEDz8ujRo8DAQDl3RzNy5EhLS0uqDfDZEOIBAACgGfnw4cOtW7fknOC7dOni5OREtQGkASEeAAAAmou4uLhz587JuUPJNm3aDBs2jGoDSAlCPAAAADQLmZmZR48elXOHki1atJg4cSI6lASpQ4gHAACApq+wsNDLy6u4uJhqy4Wqquq0adNYLBbVBpAehHgAAABo4giCOHHiRE5Ojjw7lORwOJ6enmpqalQbQKro8vw0AzRbBQUF1CtxZGdnh4eHk/seqi2y5OTkjIwMqiGO2NhYiX9oluzZJcrKykZGRlRDZHQ63cDAQFdXl2qLjPyH7dq1IydKtRuroqIiCbY7Wc/9/f2phjjy8vLi4uIk2x0wS1ANkTEYDFNTU1VVVaotMnILOjo6Ug0AkZ0/f/7du3fyvJCG/F64u7u3bt2aagNIG0I8gDy8fPmSDB8kqi2a3NzcmJgYCb6kaWlp5AEA1RBHUlKSBPd7lc6hsbFxaVMsCPE1ev/+fX5+Ppl0qbZoyA1B/kOqIQ5yWuSBnwSfNPKfaGtr6+joUG2RIcSDPN27d+/+/fty7o7G2dm5U6dOVBtABnA5DYCckHGHEB/5rxo/aglB2qgPgTioTSIv1IwCNGJBQUFkiJdzgu/RowcSPMgaQjwAAAA0TTExMefPn5dzh5Jt27YdPHgw1QaQGYR4AAAAaIIyMjKOHTsmzwTPZDINDAzGjx9PtQFkCSEeAAAAmpqCgoIjR45wuVyqLXt0Ol1NTc3d3V2CW70BJIAQDwAAAE0Kn88/duxYXl6ePO/cYLPZnp6eKioqVBtAxhDiAQAAoEk5f/58cnKynC+kmTp1qgRdZgFIDCEeAAAAmo5bt24FBwfLuTsaFxcXMzMzqg0gFwjxAAAA0ES8efPm8ePHck7wffr0cXBwoNoA8oIQDwAAAE1BVFTUpUuX5JzgbW1t+/fvT7UB5AghHgAAABReWlraiRMn5HwdvKGhoYuLC9UGkC+EeAAAAFBs+fn5R44cKS4uptqyR6fT1dXVp06dig4loaEgxAMAAIAC4/F43t7eZI6n2nLB4XCmT5+urKxMtQHkDiEeAAAAFJVAIDh79mxaWhpBENQg2WOxWNOmTdPW1qbaAA0BIR4AAAAU1Y0bN8LCwuR5MyuTyRw3bpyJiQnVBmggCPEAAACgkF69evXs2TM5d0czYMAAOzs7qg3QcBDiAQAAQPGEh4dfvXpVzgnewcGhT58+VBugQSHEAwAAgIJJSUk5efKknDuUNDExGT16NNUGaGh0gUBAvQSA+qSlpRUWFlINcbx584Z6JY68vLyEhAQJvqQZGRm5ublUQxyJiYkqKiqS9ZhmbGxMvRKHsrKykZER1RAZnU43MDDQ1dWl2uKwt7eXW4cSOTk52dnZVEMcISEhBQUFVENk5EclNDSUaoiDnBb5mVFTU6Pa4tDW1tbR0aEaImMwGKampqqqqlRbHE5OTtQraK7I+rZ3716yQlJt2SNrDvk5nzNnjpKSEjUIpCoiIiIsLIxqyB6XyyX/t3PnzoaGhqVDFBFCPIAYPnz4INlu4/3799QrceTn5ycnJ0vwJc3KypJsPnk8HpmrOBwO1RYHmcmoV+IgjxlatWpFNURG7lDJ6K+np0e1xdGyZUsWi0U1ZIw8KIqLi6Ma4iD3ZxIcLpIflcjISKohpqKiIvK4iGqIgzyUatGiBdUQGRniLSwsJDhsIDe9ZIeL0GSQ8Wv//v1y7o6GPPKfP3++pqYm1QapSkhIOHTokDyvjCJpa2svWbKELClUWwEhxAOIocmHeLKckZlMslNNZCajXomDPGYwNzenGiIj55OM/pKFTnkiQ3x8fLwEW1D+IZ7NZktwNEUiD6X09fWphsjIEN+2bVt1dXWqDSAa8kN+4sQJ8nMu50vhZ86cKcFvhiAKcoe1d+9eyX7llgxZf8jCNXv2bLLuUYMUE66JBwAAAMVw7do1OSd4JpM5ceJEJHgZIbP7kSNHioqKqLZcqKqqenh4KHqCJyHEAwAAgAJ4/vz5q1ev5HwOfsiQIdbW1lQbpIrP5x8/fjwnJ0eeV4VwOBxPT0/JbgFqbBDiAQAAoLELCQn5999/5ZzgO3bs2KNHD6oN0nb+/PnExER5djFEblM3NzfJ7qdqhBDiAQAAoFFLSko6c+aMnDuUNDMzc3Z2ptogbbdu3QoODpbzUdmYMWMkuAur0UKIBwAAgMYrJyfHy8urtE9A+WAwGDo6Oq6urgrddUlj5u/v//jxYzkn+L59+zo4OFDtJgEhHgAAABqp4uJiMsHL+cZHZWVlDw8PyTrbhXqFh4dfuXJFzgne3t6+X79+VLupQIgHAACAxkggEJw8eTIrK0ueXcKz2WwywWtoaFBtkKrk5OQGedTul19+SbWbEIR4AAAAaIyuXLkSExMjz1O2ZOCbNGlSy5YtqTZIlfyvjKLT6dra2m5ubgxGE0y8CPEAAADQ6Dx+/Pj169dyvuhixIgRVlZWVBukqvTKKHk+1ImkoqLi6enZVK+MQogHAACAxiU4OPjmzZtyTvBOTk5dunSh2iBVBEGcOHEiMzMTV0ZJEUI8AAAANCLx8fFnz56Vc/fhFhYWw4cPp9ogbb6+vnFxcXK+FH7y5MlN+8oohHgAAABoLLKyso4ePSrPc/AMBkNXV3fixInoUFJG7t+///btWzn/ruLs7NymTRuq3UQhxAMAAECjUFRUJP8OJVVUVDw8PNhsNtUGqSLj+927d+Wc4Lt37965c2eq3XQhxAMAAEDDK71sOjs7WyAQUINkj8zunp6eampqVBukKjo6+sKFC3K+Msra2nrIkCFUu0lDiAcAAICGd+nSpfj4eDlfNj1lyhR9fX2qDVKVlpZ2/PhxOW/Qli1bjhs3jmo3dQjxAAAA0MAePHgQFBQk/8umLSwsqDZIVV5e3pEjR+TcJby6urq7uzsZ5alBTR1dnj9aNRnPnz8fMmSItrY21W5yMjMzXVxcvLy8qHaTk5qaGh0dLcGjHyIjIwsKCqiGOMLDw6lX4igsLExPT5fgS0rOJEEQqqqqVFtkZBFs0aKFkpIS1RaHZPtCciZbt25NNURGLp2pqamBgQHVljFyQ7x//16Cm97ITxpJgi0YGxtbXFxMNcQRFxdnaGgowWebzWa3atWKaohDvwTVEBm5BW1sbMg9LtWG5u3du3f//POPnC+66Nat29ChQ6k2SBWZ3Q8ePJiSkiLPDiWVlZXnzp3bhLPZpxDiJXH//v1x48bduXOHajc5p0+ffvjw4Y0bN6h2k5OUlESGJKohDolDfEREBPVKHKUhnmqIicPhaGpqUg2RkTm1ZcuWZCmk2uKwtbWlXomDjHHW1tZUQxxk6CR3w1RDxvLz88kQTzXEIXGIJ7O4ZCGe3GUaGxtLEOLJD4xkPTkYlaAa4iCPFZvkMxRBXGQ19vLykvM5eCsrq0mTJqE7GlkgK96JEyfI3aWct+mMGTPI6ke1mweEeEmQIX7RokWvX7+m2k0OGeIPHTp07do1qt3kkCGeDEkSfPgVKMST4VjiEK+iokK1xWFnZ0e9Egc5nzY2NlSjsSJDfHBwsASnlOQf4knm5uaShXhLS0uqIQ4ywTe3HSdIUUZGxt9//y3P7mjIb4eBgcGsWbPkdhagubl69aq/v788EzyTySQPySQ7H6TQcBYEAAAAGkBhYaGXl5fEx6sSoNPpampq06ZNQ4KXkSdPnsg5wZObctiwYc0wwZMQ4gEAAEDe+Hz+sWPHcnNz5XlFQGmHkhLcLwSiCA4OvnHjhpwTvKOjY7du3ah2M4MQDwAAAPJ24cKFpKQkOfc/6Obm1qJFC6oNUhUXF3f27Fk5351sYWExYsQIqt38IMQDAACAXN25c+fDhw9yPmX75ZdfmpubU22QqszMzKNHj8pzgzIYDPJ4rJnfnYwQDwAAAPITGBj44MEDOSf4Xr16dejQgWqDVBUUFBw5ckT+9zZ4eHiQW5Ya1CwhxAMAAICcREdHX7x4Uc4XXdjY2AwcOJBqg1Q11L0N06dPx70NCPEAAAAgD+np6Q3yHP6xY8dSbZAqMrifPXs2OTlZztvU3d1dV1eXajdjCPEAAAAgc/n5+XgOfxNz48aN0NBQeV4ZRW7KcePGmZqaUu3mDSEeAAAAZIvMeUePHs3Ly5PnRRccDsfT01OyR1BDvV6+fPns2TM539swYMCAdu3aUe1mDyEeAAAAZIgM7ufOnUtNTZXgsccSIwOfu7u7jo4O1QapCg0N9fPzk3OCb9++fZ8+fag2IMQDAACATN28eVP+F12MHTu2VatWVBukKjEx8dSpU3K+Dt7U1HTUqFFUG0ogxAMAAICsBAQEPH36VM6nbPv374+LLmQkOzvb29tbnhuUwWDo6OhMnjyZfEENghJYHQAAACATERERly9flnOCJ+N73759qTZIVVFRkZeXV2FhIdWWC2VlZU9PTw6HQ7WhDEI8AAAASF9qaqqPj4+cL7owNjYeM2YM1QapIgjixIkTWVlZ8u8SXl1dnWpDJQjxAAAAIGV5eXny71BSQ0PDzc0NF13IyIULF+Lj4+V8VDZlyhR9fX2qDVXhgw4AzQgZLHIlki+RgoKCQknJsx8PAOni8Xje3t7k559qy4WSktL06dPJ/6XaIFV37tx5//69nK+MGj16tIWFBdWGT9Dl+ZtIk3H//v1Fixa9fv2aajc5p0+fPnTo0LVr16h2k5OUlBQXFyfBhz8yMlKy3VJERAT1ShxkjEtJSaEaYlJXV9fS0qIaIqPT6YaGhioqKlRbHBLcRkZuAnImzc3NqbbsvXz5klxGEtUWDRmpyU0vwQcmIyMjMzNTgn+Yk5PDZrPV1NSotjhat24twZlIDodjZWVFNURGLpqRkRHOk0Fl5KfCx8eHLHpyDnwzZswwNjam2iBVb968uXTpkjzPwZMbtFevXgMHDqTaUBOEeEkgxCs6RQnxn4MMxxI8lZoMf61atZIsOzo5OVGvGjF/f38JznBLHOLJBC9ZiCcPM8hkLNmGsLGxkSDEKysr29vbUw2Az0DuO8ijZXkmeCaTOWHCBFtbW6oNUkVWv+PHj8v5kIzcmuPHj6faUAtcTgMAAADS8eLFCzkneDLwDR48GAleRlJTU0+cOCHnQzIjIyMXFxeqDbVDiAcAAAApCAsLu3btmpwTfIcOHXr27Em1Qapyc3Plf3eypqbm1KlTyShPDYLaIcQDAADA50pKSpL/UzxbtWrl7OxMtUGqyOwu/7uTlZWVcXey6BDiAQAA4LPk5OSQgU/Op2y1tbWnTJmCDiVlQSAQnDx5Mj09XZ7dZLFYLA8PD01NTaoN9cFHHwAAACRXesq2EE/xbEIuX74cHR0t599VJk2aZGhoSLVBBAjxAAAAIKHSU7YZGRnyP2WroaFBtUGqHj169ObNGznf2zBixIi2bdtSbRANQjwAAABI6OrVqzhl25S8f//+1q1bck7wXbt27dKlC9UGkSHEAwAAgCSePn0aEBAg58A3bNgwnLKVkdjY2H/++UfOD3WysrIaOnQo1QZxIMQDAACA2D5+/Hj9+nU5J3hHR8du3bpRbZCq9PT0o0ePynODMplMfX398ePHi/sUbSiFEA8AAADiSUhIOHPmjJxP2Zqbm48YMYJqg1Tl5+fLv0t4NTW1adOmkVuWGgRiQogHAAAAMWRnZ8v5lC2DwdDR0XF1dcUpW1kgNyW5QfPy8gQCATVI9jgczvTp01VUVKg2iA8hHgAAAERVVFTk5eUl/w4lPTw82Gw21QbpIYP7mTNnUlNT5dy/kLu7O3lgRrVBIgjxAAAAIBIy5/n4+GRlZcnzlC2Z3T09PdXV1ak2SNW///4bHh4u50vhx48f36pVK6oNkkKIBwAAAJFcvnw5Li5Ozh1KTp482cDAgGqDVD1//vzly5dyvjt58ODBtra2VBs+A0I8AAAA1O/hw4eBgYFyDnxffPFFmzZtqDZIVUhIyL///ivnDdqxY8eePXtSbfg8CPEAAABQj/fv39++fVvOga9r166Ojo5UG6QqISHh9OnT8u9fyNnZmWrDZ0OIB5ATepNGLSRURa4ZgUBQuooaM3JW5XmJMyicuLg4+T8DyNLSEs8AkhHy+75v3z7ykIwhL0wmE/0LSZ1wB0O9BJHdv39/0aJFr1+/ptpNDnl0fujQoWvXrlHtJicpKYncJ0nw4Y+MjCwoKKAa4igqKpLsH0qMLJd6enpUQ2RkqbWwsJDgBjKyLrds2ZJqNGL+/v4S9MBQWFhIbnrJqqVktwCS69PQ0FCyO/kcHBzI/SXVEBmbzW7RogXVAKgkMzNz7969ZBGj2rJHFiJ9ff3Zs2eTUZ4aBNL28uVLOXcx1KlTJzU1NaoB0oAQLwmEeEUn/xAvf2Qgk+BWMHLfaWVlpaGhQbWbHPmHeMmQG8LIyEhTU5Nqi4PcU0oQ4gFqRH74yQSfnZ0tz88/efg6f/58VVVVqg0ANcHlNAAAAFADPp9//Pjx3NxceSZ4Dofj6emJBA9QL4R4AAAAqMHFixcTExPl3KHklClTJLgUEKAZQogHAACA6u7du/f+/Xs5d0czevTo1q1bU20AqBNCPAAAAFTx9u1bMsTLOcH37NmzY8eOVBsA6oMQDwAAABViYmIuXLgg5w4lra2tBw0aRLUBQAQI8QAAAEBJT08/duyYnK+DNzAwGDduHNUGANEgxAMAAIBQQUGBl5cXl8ul2rJHp9PV1NTc3d3RLyqAuBDiAQAAQNih5LFjx/Ly8uTZoSSbzfb09FRRUaHaACAyhHgAAACg/fPPP8nJyXK+kMbd3V1XV5dqA4A4EOIBAACau1u3bn38+FHO3dG4uLiYmppSbQAQE0I8AABAs/b69evHjx/LOcH36dPHwcGBagOA+BDiAQAAmq/IyEhfX185J3g7O7v+/ftTbQCQCEI8AABAM5Wamurj4yPn6+CNjIxcXFyoNgBICiEeAACgOcrLy/Py8iouLqbasken0zU0NNzc3BgMxA+Az4VvEQAAQLPD4/GOHj2an59PteWCw+F4enoqKytTbQD4DAjxAAAAzYtAIDh79mxaWhpBENQg2WOxWNOmTdPW1qbaAPB5EOIBxMBms8n/pTdd8tyjKxAmk0mGHmodNW7UHAPU6fr162FhYfK8mZX8Eo0bN87ExIRqA8Bno8vzwWxNxv379xctWvT69Wuq3eScPn360KFD165do9pNTlJSUlxcnAQffvKfyHO39zlatmwp2f6SxWI14ctV/f39JTtQIbe7PKsluQnMzc11dHSotjjIQ02keajDq1ev/Pz85NwdzYABA3r37k21AUAacCYeQAxkNiITkkLgSAo3nNWITCHUmpUXanuIDwke6hAeHn716lU5J/j27dsjwQNIHfbWAAAAzUJycvLJkyfl3KGkiYnJqFGjqDYASA9CPAAAQNOXm5vr5eXF5XKptuzR6XQtLa0pU6bg9z0AWcD3CgAAoIkjs7u3t3dhYSHVlgtlZWVPT08lJSWqDQBShRAPAADQlAkEglOnTmVkZMi/Q0lNTU2qDQDShhAPAADQlF27di0qKkrOHUpOnDjRyMiIagOADCDEAwAANFnPnj179eqVnLujGTp0qLW1NdUGANlAiAcAAGiaQkJC/vvvPzkn+E6dOnXv3p1qA4DMIMQDAAA0QYmJiadPn5Zzh5JmZmZffPEF1QYAWUKIBwAAaGqys7O9vb3leQ6ewWDo6Oi4urricWMA8oEQDwAA0KQUFxc3SIeSHh4eHA6HagOAjCHEAwAANB0EQfj4+GRmZgoEAmqQ7LHZbDLBa2hoUG0AkD2EeAAAgKbj8uXLsbGxcr4U3tXVtWXLllQbAOQCIR4AAKCJePz4cWBgoJy7oxk5cqSlpSXVBgB5QYgHAABoCj58+HDz5k05J3inElQbAOQIIR4AAEDhxcfHnzt3Tp5X0ZAJ3sLCYvjw4VQbAOSLLs8bX5qM+/fv9+vXz9fXl2o3OWfPno2Njb1x4wbVbnKSkpLIBaQaTZShoaGJiQnVgDIvX76kXjV6bdq00dHRoRoAdcrJydm+fTvVkAsGg6Gnp/fVV1+RUZ4aBADyhRAvCbJcTpo0qaCggGo3OcXFxX369Pn111+pdpPD5XKDg4PJnRDVbnLI73XLli3JXSzVhjLkwVtWVpZC9GNtamqKvj5ARHw+f+PGjeShO9WWPSUlpYkTJ6qpqVFtAJA7hHgAAAAAAAWDa+IBAAAAABQMQjwAAAAAgIJBiAcAAAAAUDAI8QAAAAAACgYhHgAAAABAwSDEAwAAAAAoGIR4AAAAAAAFgxAPAAAAAKBgEOIBAAAAABQMQjwAAAAAgIJBiAcAAAAAUDAI8QAAAAAACgYhHgAAAABAwSDEAwAAAAAoGIR4AAAAAAAFgxAPAAAAAKBgEOIBAAAAABQMQjwAAAAAgIJBiAcAAAAAUDAI8QAAAAAACgYhHgAAAABAwSDEAwAAAAAoGIR4AAAAAAAFgxAPAAAAAKBgEOIBAAAAABQMQjwAAAAAgIJBiAcAAAAAUDAI8QAAAAAACgYhHgAAAABAwSDEAwAAAAAoGIR4AAAAAAAFgxAPAAAAAKBgEOIBAAAAABQMQjwAAAAAgIJBiAcAAAAAUDAI8QAAAAAACgYhHgAAAABAwSDEAwAAAAAoGIR4AAAAAAAFgxAPAAAAAKBgEOIBAAAAABQMQjwAAAAAgIJBiAcAAAAAUDAI8QAAAAAACgYhHgCgseAXZiZFh76LTCeoAQAAADWjCwQC6iUAwOfLvbCwz/8uJeUWE2RtoTM45h5HbmwZrEG9WxPeu51jv9zyPIcv/Ad0tqpej+XnTi20YVJvyxyRcHTm8B9upORxhbMsRGeqaOlqcOhkqi4u4KsYtrG2bd97wryvRrRRLR1B+vihu77oufJmWhFfQFcdezTln6nlkyKSHx05+IDRz929tzGLGiY//LB97uO3PckoprNZbCaTTiP4fAGDraSkpDXyt1tbhipR4wEAgJyRIR4AQLq42bEP1va0trNWpjO0x3ol8anhNSl8sG76QEc2jcaynHUmLL2wrnFlqCgz8uoSe3I2GDrjvBK51FASNyP49oFlA4zZam1GrLkUyaMGy0BReugJDzMmGeKP5VGDSHm+MwwZ5IGFpotXKjVI7viF6WFnZ1mShxB01T4bnqdVWj0AANAwcDkNAEgfS8Oks33r1i5TB2sJsv7zPh1T++Uhubcu5/YYqSeMqUa2juY6Sg1UlThapk52JnRhTG1hoF3pjDdL23rArO2X/1lhHffvL66jv72dRb0hdRyd1j06mFdffk5LU2NlOp1jaGaiQg2SO4aSjnlnWyPh2tG0dnLQlf8PAgAAUA1CPADIBp3G0B3j8YUBPf/+0WMf+NTQ6tKv3hAMGqFJxsMGV2c5VOsyy60rS1Dw9s/v/g6ubWE+G53BoFdfFayu628FPg8Ie71zsMwu5hFDY9hSAACAEA8AMkTX+GK6iymj+NUJ75fF1LAqiLjzj9RHDVZVgGTINDQ1UqbTBEWv7tzLpIbJCUOrjVMHE2WqBQAAQEKIBwAZUuk/fZI1ixd86sj9fGpQJfzQs69bjuuhIPFUUNoNAJ3JROEEAICGht5pAEAm8k+6jY/beHm52fufejqtf6U79cz7o+O0qTdL8QJ+/ubepB1LrNL3jTCd+y/R57cPd/7XpmqvNERm0IV9B/w+5ggIGkffqpfL9Mk9DSsuySZS3tx8EsNXVlFm0bhFhYVc1bb9Bthq0Ygk//+exdOUVZRYRFF+oWrbAf2s1al/U6vkvcNN5//HN/nqcti+EdV7XeEHb+7TfvUTnvrgXYH/LmpdPpf85Bdnjxy/+iKRz+LzNe0GTZo+dZBFjde9iDAmEbVjoPXyF87lvdPwIu6euhmUnJqalp7TesKm2d04wrEy3ly99CSCHJiWIegw8/vJdkTc/VM+11/HFetYOvQY5jK4pmXNj7h34er9NyFpTKNOX0yb3Fs78tLOv65EpMXHqLru/svdsp7egPjhWwfYrnjAN5p5KfygsyjHXXVtOiIj6M6DiCJyu7Hp/KKiwmKaSdfhnYU38BLJr68/jRWoqCrRi/MLNNoN62VRssyZby8ePOz7KkXA4vNUrQZPm+fey6jkjxHxT85d849LTU1Py9b/4rvFfQVvLx8/9yBCYO0yd3qf0nEAAJqikttbAQCkLM9nyoitYTyBgBf++0BVOkN7zOHEqh3PFN79fsnBOOGw5L+Hk5mZ3ec34fiVcEO8Zo9dsP9hXIFwrNz3p+Z11tLrueJKyT8qwQs5vWbGxJFOJsL+IGlM/W7LL8QL3+QG/jnKlE2n0VnabboNm/yjX50d5FCS9gwj8yLT5Cu/QmpIhYxbX9ux6QzdAVteFVCDyKlEnFvSw9Jp1p47YRnknOfF+5/5bkjbdq67X2VTY5QRcUx+5PZ+nMq90xQ8/mP2hGHt9Zn0SkP50RfXe7gMtNVl0plm866FXVg1de62S6+ikuPfnFnqpKlhP/98QtXFzX2+a4KtsdP8o89jUxPenFvZ19Syc98JP16PLkzaN1JVdcTf1TZNDXhhv/UR9t1jNPNyxQqoXT2bjhd16ae5Hs7tdRjkNuKY9p268lhQaZc3vPeHZjgasOl0po7d0Gnb7uWQy5v24OcRZi27LjgWKFxbRbHXv+tnYDhw48MM4T/gBh75esqonhbqDBpn0K7Xl1a6zv/j0pEF7VQY6gO2B8uwMyEAgIaFEA8AMlEe4gX8hENfajPoaoN2RlSOVNm+K785nVbyspYQn35igq6KQefZPlFlgwtfrHPkMAzGH60WUrkRJ9xas+nqA3eElI96a1Fbk4GrL0UUUQPqV1OI5xemRz47v21WFz1Vk37z9j8vyY0l+Kl+C+1UjMd7R1eZl8zbS9spGX65P6SiG0Yxxqwe4ktwAzc4sT8d6v99RzbTZPSMJRtuV8xV9lk3PQa787qASr1AZtxYYsthO20ILBvGfUX+U7b1fL90MjSnR0WK0mWkeCFetE3Hj90/SpvBNJ1zrcqS8eN3DzUe8ce70q3ADd7zhT5L13lfZMU/5AVv66/Gtll6O5caICjwnWnEYPeYMGv2nmCuoPDOMmslhkb/re+rfKAAAJoSXNoJADLGMBzr4axPz39w7NgHHjWMRqRcvkkf8oUu1awJkZ+eUVCY/Ob6/ZCyf6bUcfQIa2bKf+dv5lFDSrFaT9l7bKWj4N6Gmb/6F5IDigL/+iPC/eyln0e3Fl6MIQ4i+ep3Ls6UkSNGuS//61Z627lHX324u2d2l/ILgvIfbPx6X4jx+EWTTKvUUa2+S2Z1z7i8euWJBKpfTdHHrAVDQ0Pt01t/6Roa6jQi8UGm47x+FZcpqVhZmTJ5oUHviqgBNFqO317vYF6LDo5WZZeWsOx6dNHjhxzfdzmDxtQxM5d6l5EibjqGievc8Ua0uEtH/TKoQUL5/u/U5m2ZZye8oolIObf+h2tpeqPnuFXqfJNp5TqhOyPk2D6/HGoIQ1NDjcF79ZIz3sOaRVPqv/1NTFzkjeW2cntkGACAvCHEA4DMaY/0HGvKKPY/4f2C6qSGiD3/WHP0ILXSVs0YJrMOXPU+fM73p4HlF6jTdXW0aIKijLTM6rlXo/e6o5uHsB5tcF9xLfTa6pX+Y3ev7VHvZfA14XT/5twVit9/16+cPbxr47ezR9hU+WO5/+4/Ecpjt3PsVP3ieaaxY0cTeprf4VPRJfMo+pgSEDBsu/dsUamQ0zlKbJqguCC/vDcgIi8jI19ADleuOBCgq6qq0AWF6WnZkk64biJvOo1hs92sGUm+ByseJUCkXDyTPszTofTAIuOqz9VkgmXftWuVTvIZevZ2RvRM/2dBVXo94nTq1ZO6y0BJ3xDd2QNAk4YQDwCyp9rf09Waxft4yutuSSc1/I9nA43Gda+eaqtTbj3AffoYO3rIXZ8dq2ZPGjtu8ow1FyLJtCcgargjn2O34NBfbkYhf7n2+pHx7a5pFTefSl/x28cv0gm6iqbmp7d4MrW1NRiCIv8nz4S/CYg+pkQYGto6NSwnUbGCGHpdu9uwidToyKzy9MxNTk4XsNt07WYkvX0AkXxm9cY7ZT8AiLrpOF1nenZTyrl1yPt96Tl7ftRJX+ZYV7PSGSt+FxBEHoHQYi6vXzi/sq/3+fNU1VmCKhme0cLIWEG6OgIA+GwI8QAgB5wuHm6dOUTMeS+/TBqN5382ou0k6lxrHYgM/0ML+5qb9f/2JnPg8j99zp48/LOLRe1li2E8ftO3g9Ry0oIDAmIrrieRAUFmZg4ZRpnMmg4UmExyyQSFWVkFZEP0MSXzycOhPsHquuL3RQ6CRyd9Qkojb9F7r8M3i2zm7lrdQ9xrjerA+/g8KKfk/mIhkTcd03rajMGaxa+8Dz4RbjFeoPdtI7dRZZdZCfLzCwU0unavBbv2VLHX52FMdkbgb/0qLwGdw2HXuzoAAJoIhHgAkAeW7VT33iqClCve5xPz7l9IdpxoUd+J8vwXv44d8tWB1FEn/B8eWDLcTl+5voLFjz617oLFpg1DmHfWTvv+rgyfycQ0NjJgkBEzL7/StSEUIj8/X0BjaBkaCq8WEn1M2eFwVB3cFljfmOPsOmeO+6jBnudM1l2//ftQXSnuAYj0oGCukUnpgZk4m45hPHH2GENB6Ml9VzNp+XePvO7o2a+8402WqZkRufZyMzO51BAAACiFEA8AcsE0d/UYqkXLunH0kJdvfj+X+i7kIJJOb9xyP1Nr1NqfRxtV5P3i4vI0l3tx9ffXK51vL/TfvuyfTr/uWLz28J9TDIJ+91x8Ou7T4CwdLNthAy1YguLYiGg+NahcUUREAp+h1XdIb+GlHaKPKTNF9048bzN3w1++d//1/m3L3gsPnt06sLh3y/oOosRCJPj6Bmib6Au3qoibjnpNo2mNnD3ZkpF46eCZIF+fxEEe7St+omFaDxtiw6YVBwdWvfi9RH7QnYfxstrCAACNHUI8AMgEv7i4sKhy8GK0dJnmrE8vuLd5F3/YSB1qaKkql0mX4oW9fZ9LMM3s7bWoIUIFHz5ElmVhbmpUTGZZgx9/cdnK9667FndQFp7b/ePQIpvEEwum/xEk+lU1YsVBTo/Fy4e34L++eim0WjZP97t4N0ep/bzl40uvCRF9TFkR5GcH3fILzCe3gZKWjnq9VzGJj0j0Xf/rTWVj45K/LeKmo16TlHrOnNaZk319m+de3peu5pWPLlhOC1eM0idCzh9/WLVDIhoRc2Lj3rfl3R2VqOFzBNBgeOmhT64c273ll+17j119nVL6YSUSH95+U+3DLA4i4/0Nnz2/bfn92L0oie+lURCF8S+unNi/c/PGn7fv9T7/IDwHx+zVyDnE83NiAm6d2b9r9+FzN56HpX96ZoVCZIY/vXby7527Dpzyexb1GZ92iqjTlXDCRXfXDWxvbdHawtLK2sbW1samrVUbi9aWto4ehyXudKJxaj5LCp+Hn3Rv2+HbT0/t8g2vtJsp7aSGbjxq0sAql48UxsWnkp8fQWp8XGH554jVtpuTHoMXdvfGx/KglnN/60XlwZ04RHx0NJcXGSMwMRWmxvyIG9vcBrn5aAwaVnZ+X3vg2pVfaGbcXOM6/9h7Eb/JxeRsCFMgNzU+sfYiUYbZeva+gwvt3m1dsPVFFjWM3GtHnlr23RXV0Vu91/UsO7su+pg0XnJKSdftySmVv0/U0KyMKl3ykEPTBDQiLTml8rEBNyU5gxyanZ5eMZTTZ1Sf8I0D7Lv0HzRk6PCRzmPGTZjsPmfVDp+7oeUHQfUSbiTh2inMz68SnIuT31zY7DZo2uFQwrBVq5IQL+Kmo94RYrXzmDlAnRuaaj1lTMnJ/AoME/c9R77pnH548fKLMeV/jsh49vvK/xxXT6dugKUVJKdkEUR2UnyOyEsEIDtEpv/BOb17uP3xKEW9TduWjKR7W6cMcdv+KCXm+MLJP/yXJNnHlBd+dtmALpMOJph3bxn408guY3Z/aJqfdyLz9bH/OdvbjfzRL7RIv0MvJ1N63MPdUzpZ95u9615ClQrUzFH9xctB7jufpcN7O8/5bsv2X1bNHt2hBVvDZuyGS6FVHvJByvA/vHyy64JNB8743fQ7s++nmf0dB847/Lr6aCITdbqfO2F+QVrIqZkW5D6MrjZg07P4HBEen6KYFGJJi9LjkyX+zMDnyDk329pQW11NQ0tbW1tTXV1L32LUzrJn7hQ9X9938Oayhw7xY494dLI21ddS19AkR9bW0lDXbNGqbYcJf34oGT8nYP+snq1atBm+dNuho4d2rJk7Y/Wp0MKkK0s7aamZdRnssvJ8XObZWVYG2prktDRUlTktppwp3eq80J2DtZWUVdWFM9HCuLV1rzV3Pn0KK4Uf7z2DnA09LXV14R8SzgY51+bWnRf8U/3Bq58oCDm/+gsnx8GuC9dv3b7pmyn9OvedtedpWtVHUZWoZ0xeyF/jbMyMWmiXzIG2vknrdrNOpVcZqqGh3dJixNY3XG7QjtHW5FCt0nFbGJvbuu6PLAz4bYS1qaEuNdTAzMp+mlfpH89+f3ymrWaL1nYODg727Wyt27Y20uIw6GRC1uwwyye0zm8wL3TvJAcLA3U2dQctnc7RbmVtT/4lB3tbSxM9tbJbSenarqfLv3MibLpq6yjt9BSTjmue1zIvheGXvnNub9vHbcUvO3dvXfvVOJe5f7/KLH3r9qoelq1a6pQst6aGpq6JVYfp3iXP7QVoGAUvNvXRMR57IKRy1eGnPdzi4mSmy/j02dSi4b7e1ENNqfO6F0WCoifftmORu2AX75JvQdPa4eX47x5noaLTden5yKqP6uMn39s0zERJv+/aG/U/Y7peDbPSpDxVeYV4XvDfLl0m7A+qeNJfXuC+cWYsOtNo9N8fKso2L2TfxMFLrlTZPLyoE1Ms2047VfVhh6IRdbrSmXDZIw0NRXsuuQJr9Eta9GT18EXXa01toED42ZEBD274/fcgMK788Zz8nPiI2OzG8zBOfl7iu4e37gZE1TtPoo8pLfyky0s6GXf95mp01XzMzQ69/vssJ12mtvM+SYqrCMTadKmnZk7YEVr3WuEXJAY9uH79XkB0rmzmGEAKeBF/DtVSG/h7+CcfZ37SOQ8zpoQhvuju11YsTr9tEcIPPz/p6bE//vYLKflmNaUdXuGbHUP0mGwLz3M1H4jnPFjjpMZQ77j8Rjo1REINs9KkPVU5hfj0cx6O7meSq24RfvzB0doMGkNvXPlzuPP85rQduTep+pbjJ+z7QrvT9/51ni+qiajTldKExXsuuSJr9Euae2Zqx/kI8QDc1+sdlUznXKv53A8vZHNPjtpY73p/cZA1XvgfE9y9pXB2DaCh8WN3D1FhWS9/WPU0cine25+6qksW4tMPfKHE0J5y5tOdbtPZ4eXcX9VJhc7Qn3jikzxWruDeMmsWnWXmfvqzfm9rmJUm7anK55r4wodX/ntzamaPCXveVbqUidHS2bk7h06k3fjneumForyQx8/jc3Pzqt+cxNCxstCNDQsX9zooUacr9QlDA8t/dONxFu5xA6ARuXl5AiVllZq7oqFzVJQZVZ7lKi859zaN7t7X80BQSXUtfnX4hpHH2JZyvksLQAZ4sdFxXCIlNramO2uYNqNHtmNTDbEQxcVcAY3FKrnvpIoms8Pjhx74fvfrAqbV1MXjDGotBsq9Fs7pqcSPObVu2yPJ7+xtmJUm9anKp2Tyc7Ly+NyciGtXHmdTg4QYWsZGmnSaoCA2KqH03gwmk1H8aMfXewJySppliMQ379Is7Kw//ezWTeTpSnvC0KB4H/Zvkfw59gBNCaf7vLXj6Se/WX014ZOvRM6LnfO3Bvdc9Y2zOjVEbvjJT67+++zR5ZvvCsgIH7zv94hRSwfJfS4AZICpo6tNJzL99u7/UEOMZ7V17KCvxJLecXPT2eEVP/7rrwe5AoZB3yFd63qaN9N86KB2LAH34+Gd5zOoYWJqmJUmg6nSBQJ5HInkPNvzv1+u8/sv27Kkb4uKA4dMb5dW0y/mcwbtCr++yJgcXvx4Zaf+W9/zNdpN/P7PHUsHGAnTM5FwftaAlczfnuz7kvy3RMqbm09i+Moqyiwat6iwkKvatt8AWy0akeT/37N4mrKKEosoyi9UbTugn7W6qNMVZcIi4IdvHWC74gHfaOal8IPOpR1OEBlvrl56EpGampaWIegw8/vJdkTc/VM+1wOiMpktHQaOnzTcTlv4x4ui7p05f+t1dJFOG/sew1wGWX+yPyMygy7sO+D3MUdA0Dj6Vr1cpk/uaVjT4UV+xL0LV++/CUljGnX6Ytrk3tqRl3b+dSUiLT5G1XX3X+6W1Ck5IvPtxYOHfV+lCFh8nqrV4Gnz3HuVLLcIalrSWhf1dVyxjqUDuVCDyxeKiH9y7t+ABHLM9EyW09w1E4yibp395+7buCJdu669+g3sY6tbfuJQ+Gd9n0Smpqelp+cYffnDwj7Cv0Kkv75y+WmU8C9k5BiP2bCgt7C7E15G+PPrR39Z/cvlcK7eyPV/zGwn/DN0Vqtuo3uY1nwqEqDJ4yfc3PHdltPvVbs5D+9m29pEszgpMiTg1uVbsXrDFm9cN8lWpr3U14wf7TNz7N+6X6/sV/T44i1i4vafnOt7cgCAYuC93dS72/fPCjmWLj/s/GX+SButqh9tgiAYjKqD+Mkvzh45fvVFIp/F52vaDZo0feogi/JnnuW8v3U9KD3r5qa5f4f3Wf33gs7knppp1GVkO8K/jh2evNKHWKmM+jc14T1f07n3L295yiP3xV6d3YIaWqMiv68sRx+IExhMOxvmPVZdiilBRuFEdtmk9KqahpF5wdOYSaMrd9/0tuzyMH7Sxa+slYSHqHS2QY/5h14lvD+5oG/XqQfKb03lhZxeM2PiSCeTksd7M/W7Lb9QclkUN/DPUaZsOrlStNt0Gzb5R7/aL6iqYboiTFgENV0pzo++uN7DZSC53elMs3nXwi6smjp326VXUcnxb84sddLU7LDgYnxR+MlvpizY7usfnRr/+uRiR03N9ot9q84/N8Rr9tgF+x/GFQgH574/Na+zll7PFVeq9/CQ+3zXBFtjp/lHn8emJrw5t7KvqWXnvhN+vB5dmLRvpKrqiL8TS0bjpz34eYRZy64LjgUKL4Ytir3+XT8Dw4EbH2aUvF2vGq+Jr2dRNeznny+7CYEb6LXMfewAa7K0saxm/7Ft+thZv5y6HxQadPfET+OtNYwHrDwfVnbRGD/2yuavZ7l0bMGk05SG/51cOpQX+c/301wG2AhrkNKIfWmlA6Ov/Pbt//63bEIHNTpDy3HyN/8rsWKtt/j3UwA0MfycKP+7fueO7d+z98jJizceB6c19LciO/jOmWOnrgUk4O4VaFrSr84vDRQ0OlPVyL7/2K9Wb/Pye51U01XyAm7EuSU9LJ1m7bkTlkFmkrx4/zPfDWnbznX3K+peFX7ijd/JPdvC4RYsco/pvKRkv7bq4KOPde/w5JU+pJDKhPjROwdyhH/AZLZffRWB+/ZHJ+E1SSzb/z0i16kUU4JswonsskkDhvjS+0vpbMuvLqdW3rK8hFsbnVtTH382R6P91//V0F8bN+KEW2s2XX3gjpCyIF54a1Fbk4GrL0XU+DUpV9t0RZxwXWq/3ZPr/31HNtNk9IwlG25X5OTss256DLbDlDlfrbtTMTTDZ5IOg931p6BKN76kn5igq2LQebZPVPnSvljnyGEYjK+4OZeUcWOJLYfttKGsBz8B9xU5Xbb1fL+SvqejIkv32tzgPV/os3Sd90VW/Fte8Lb+amybpbfLe5GoSx03tta1qJ3XBVT+wBZem2PCJL/ffTc8qXRfHTf82GRzFst4zP6QSiNzn69tz670PSlV9HSVPavi60kpuDjdgEEWLdzYCgAADaAo+OisDtpkuqtAZ6iZ95+z70WV28j5qX4L7VSMx3tX7SIq8/bSdkqGX1beC/IT/xrKoSk5H6x2rq2eHZ6c0gc5IYlTWanSXjPJYG619F594/MjtvUTBn6GjtvZ8gwixZQgo3Aig2xS9Qcdecq4tn6TX7ZO/x+ObXOucrEK06DD0C8HOHV0stFm0rjFOW93Txo0c2+lZ6SUYLWesvfYSkfBvQ0zf/UX3tpQFPjXHxHuZy/9PLq1cNPWqtbpijhhydA1NNRpROKDTMd5/bSpYTSaipWVKZP7zi+5z6K+FUPVLS1NmLyQd+8qnjRJ5KdnFBQmv7l+P6TsHluljqNHWDNT/jt/s+JBNjl+e72DeS06OFqV/c7FsuvRRY8fcnzf5QwaU8fMXJd8g0g5t/6Ha2l6o+e4mVesAKaV64TujJBj+/yq3hYgtjoWlRcaVGmhyFFVVFTodM0vlv6vuwY1iMSymLJl5UCVBN9VK45VPFKdrqFe5fFApZgaGmqViyQAAECD41i7H3j54cGRnxa6Du7YSkN4DbyAyIu6u3/+yC9/fly+m81/sPHrfSHG4xdNMq2SR7T6LpnVPePy6pUnPr2XRTzySR8kiVNZGYJfsqiCwvz8+i7zFuQXFAjHEZD/RhYpQXHCSQOFeCLh/PIlXuldVp87t6pHpVVEo2W9/NN18OIXQw88ePE6wHeDi7UajZ/52mvh0JEbHuVS41A0eq87unkI69EG9xXXQq+tXuk/dvfaHnVdcFXXdMWZsKQEDNvuPSsfONA5SmxyW7fr2Vu38oZQ5nBogoLKH2OGyawDV70Pn/P9aWD53R50XR0tmqAoI638IY5EXkZGvoD8o5W6mqCrqqrQBYXpadnln7iMqz5XkwmWfdeuKtSQEgw9ezsjeqb/s6D6n1VZr5oXVVBckP/pH2cwq10cSGO0Gju2p7Ig3e/wyajyp9GxmJ913RgAAIAcsVr28Phu98kbATGpSe/vndy2ZFgbFRo/5e6PC357UborzP13/4lQHrudY6fqN3IyjR07mtDT/A5L5UZIWacPigSprALTQF9XmF2I7Mys+h5Dy8/MKOnjhaGrr1+RDKSdEhQhnFSbQfnI8982dd4183W+V37sX+XzQyScXTThV8E3J/e42anRlMxHfn/+1fOT/+tvxBZkPvl5/uZn1RIgx27Bob/cjEL+cu31I+PbXdNa170ma52u2BOWEENDW+fTWWRoamvXMONExfElSbn1APfpY+zoIXd9dqyaPWnsuMkz1lyIJMcQEOXfNoZe1+42bCI1OjKr/J9yk5PTBew2XbuV3zNW/C4giIz6tJjL6xfOr+zrff48VXWWQCrLWvOikgtVURvqwGjhYGfCFBS/fvq88pl7AAAAhcPRtenr+s1Ovwf/LOmsSisKPHrkgXDfVvz28Yt0gq6iqfnpveVMbW0NhqDI/8kzybtRrCDj9FFOzFRWGbNVl04m5OiCgtjIso4Da1MUFZVMjkJX69ClfV392Ehdowsn8g/xvPCjsyYfNNj0n+/aPlWTNC3/1o8rzhsv+GmqRcVmV7Ob9Nt/D07M6aDKDfI59rh6wGQYj9/07SC1nLTggIDYOldpHdOVZMKSoZ5bXl0tgysjMvwPLexrbtb/25vMgcv/9Dl78vDPLhbVloPVdcXvixwEj076hJTOb9F7r8M3i2zm7lrdo/zXLEF+fqGARtfutWDXnir2+jyMyc4I/K3kSrPPJsIy1YGhqq5CpwkKc7IR4gEAQHHw/H+ev+1dTTGUYTRi42/T27D4ca/948m2IDMzhwzCzBpP5TKZLHKMwqysAmrAZ5Fx+qggeiqrTqn7iIHC3uF5Qc+e1n39Q3HA04BcMseo9Bg+VIcaJieNLZzUuh1kg0jyW+7+p+7m/47PdijrPIn34fTBG8nkUR0v6NaDxNb9Brat/nHmtJnw+555tvT4qMjqa40ffWrdBYtNG4Yw76yd9v3dTGpwdXVOV6IJy1f+i1/HDvnqQOqoE/4PDywZbqevXMuG43BUHdwWWN+Y4+w6Z477qMGe50zWXb/9+9BKhy0sUzMjBk2Qm5nJpYY0QvyU5HSCxmxhbFzex1bNajoV8IniJ9t//CeZagAAAMgMkZsWFBxRyw5WvffwvuQOmccVnmljGhuRqVWQn5df+dR3KSJfeFULQ8vQsIYrrutSusP79A9KRuT0UUbEVFYTtWFzp9uz6YKcB1eu19X/e3HA1RuRPHLtTZjnWtJJeJ3ESAkirDSphhMpbCq5hvicp5tnbWOuPb97rFlFXCbS7p69m6pKzgghIAgyhdb404hypy72ai30DaqeJC70377sn06/7li89vCfUwyCfvdcfDquhtVRz3QlmLB8EUmnN265n6k1au3Po40qlqC4uLxI5F5c/f118v+L7p143mbuhr987/7r/duWvRcePLt1YHHvllUOTpjWw4bYsGnFwYE1XPyeH3TnYcX9Gg2GF/zkZTKfoTtgRK+yrULncEq6r6qKn5aWWcMXhU7+h1YxnEgNfh/fiA9ZAACg6SCS712v9SoYcv/E0GrT1oR8ybIdNtCCJSiOjYj+5MR9UUREAp+h1XdI7/oe4yDDHZ6I6aPiLKeIqawWSl2/Xje5FUuQ7Pv38Yhar6jJvLbn2AceQ6f/ilVf6lLDhOSREj4znEh/U8kvxBcHH1yyOWuB9+bh+gSvRHFRYW5KxDOvS0kWJc8a4bTr3b3Fxxt+H8tuga6k+P3bMJ3hLn0qBW1+/MVlK9+77lrcQZnGMJ74x6FFNoknFkz/I6jqSfP6pyvuhOtXwwfmc/DC3r7PJZhm9vZa1BChgg8fIss+5NzUqBjh8a4gPzvoll9gPrlhlbR01Mv6qKmK5bRwxSh9IuT88YdVbi0nP1AxJzbufVvDWqiVFJZUUJCSXO3umNwHB3ze8NS6LF7xZflt8wwNHU3yCJ1bzKs0bnHQ9TvClSCo+sgyhq6uFkOQl5NNrZ+itFx2i4ob8KFpIIpz0+LDP4QmkJ/3eogxKgDA5yLCvX/4K7CmX/Dznt54lG4wckLp84k5PRYvH96C//rqpdBqmTXd7+LdHKX285aPr5xTSZ88oLPmHZ50wp2I6YNqiJjK6sBoOWHnkSXtVXJvbfzGu3waVWTe+P7bE3F00wm7Di2yq3KG8vNTQtWVJv1wIoNNJacQT8RfXOSyyOvCr84mSuwySsoqGgZteq66r2djWRI31b9Ys25Q+JZZPz2s+gMMkX77+4XnbTauG1nWoUx+xI1tboPcfDQGDSu7YVN74NqVX2hm3FzjOv/Y+7JwKtp0xZhwnYiCmLgUcoMJ8hJj06pGYV5ySpqARqQlp1T+VHJTkjPIoenJSZWHFienZBA0QVZGOvWJYLXt5qTH4IXdvVFxmJFzf+tF5cGdOER8dDSXFxkjMDElh3L6jOoTvnGAfZf+g4YMHT7Secy4CZPd56za4XM3tOxbRmKYuO858k3n9MOLl1+MKf+LRMaz31f+57h6uln9H4o6lrTuRc1OT688tAQvYP+G05Hlf6U4zGfRvANxbabs9v62U6UfQDT6DOymRoS/e1f++0HhhyP7EiwdWTQiLjykcjrjdBrS34ie/fzus5IPQubtJ4zuPat0xQMywg/bN6WTTZvWFpZW1ja2tjY2ba3IhlW7XqtuCMt48f31gxzaWpBvty1527qtJdmw7uCy/U3pB4BIfnTol1+PPIyv9qmqpvDK/DbqysqaeiaWHSburenou5wYo8pC6QqxMLdoY9XWpnSRyRd2Dh069f620umrpqA4KeDeizhp3IMnGX5OTMCtM/t37T587sbzsHTp3MYEIBlB1sst06f/+axsN16KyHj4y8rDWcPWr/uSupSb2Xr2voML7d5tXbC1Un/WvMhTy767ojp6q/e6nuXn4YnkJOG+NTUhrmrlqGeHJ4/0QSYpUVNZvXQG/ep3ZnnXYt8lYxb/E1X1e0yk3d84bureqNZu+//1cjevEuFJ0k4JUg8nssgmws7iZS7vgod+rcmQ3X7N84p+83Neey0ebG09aMGWQ+duPrh/7cyBn2YN6TN27T/BeaUjZJ+dZWWgramlra2hqsxpMeVM6XBe6M7B2krKqurkG9otjFtb91pzp1CM6dY/4ToU3v6uv72Via6GmromOXltLQ11dW0Dc5tO0w5FFQXtGG1tZtRCSzhjWuSsmdu67o8sDPhthLWpoS41VM/E3HbqkbjCFz8PaVsxtKWZlYOHd8mTz3IC9s/q2apFm+FLtx06emjHmrkzVp8KLUy6srSTlppZl8EuK8+XPjwt+/3xmbaaLVrbOTg42LeztW7b2kiLw6CTwV2zwyyf0ErLKygMv/Sdc3vbPm4rftm5e+var8a5zP37VSb1Zm3qWlI+V5RFNTCzsp/mVTq3RXe/tmIx9KYevPLLV+5f/W/L3wd+XztjoJ31gEXeb6o8DqNUYdCRGY7GlsOX/vq39+Fd6xd7zN3xKGzvcOGPJHQGW9N04qHyJ8jxE6+tHWSmazV88Y8bv57otvlxDX8OZIVfmB52dpbwCJmuNvCX5/E5lR4cQuLlJb3Z5axDfjOZJlOOfEgteQxgqTzfGYbkcLqmi1cqNag2vNz4x+t7KdPZndbV98g7MUaVjUorRLXPhucN/qBUGeCF/TVcm07j9P89qmJzyk/uO5+lw3s7z/luy/ZfVs0e3aEFW8Nm7IZLofUXbwCpK7q31Np86umwgCMLBzv1HLvwhx37jv1z8fSBLd+MsWvlNNf7bQ41YrmCkPOrv3ByHOy6cP3W7Zu+mdKvc99Ze56WP22SF/73RBtz4xbkHpTci2pqaBu0thv848PyJyLVssMTaZcshfQRfFr0VFbyjgjyQn03Tuqob9BpwvItBy8+ePX02vFd38/oa6prOewb74CM2qqMCCmBGrPulCCzcCL1bEIn/ytMtI1LYdTDy9efBn2MzlE1b9eh64BhfdqI2tPo52mwCYuEyIkKfBOakK/cyr6Tg3HpvS5EbkJ0lrqpiQaTPEy/smz4nMeDDpzbMlJ4YFyGlxN259Avq348EtZzz5tLX1V9ogRRmPThZWA8oW/j2N5UrdYjHtkovrfUfvAfmVPOxXi7MDIigt6E57Ww69zOuK75KEp67/8uKp2nadGxi50Bpzj6+f0Ivq6evp6+gYGehlLlf1mc/O7Zm0Sltl2dzDXkvGTNHj986wDbFQ/4hjMvRRx0/uSSzuJ7X7cbvCuM3nnd82cbOlZ8WHnP13cf8JM/v+3iK/47B9dz3xCt0Hdma5djRt89e76hU6UPfE3EGFU26lkhCo///k+XkT9H9lx/0muOvZzvIOJ/3Ddh6nVnr6Oz21ErNv/t/mnOC87H6Y/66/Y/c2waZItD88WPuf5PWIfxA1qS+52iRP/rV268CI3P4OlYderWd9DATkbCbFcTIj8pOOBdipplZwczcpcuJpnu8OpJH7JSmPDimu/t1xFxKXkcXSNTu17Oo/q2qXfppJASZBtOpLqpSrM8KD7u6/WOSqZzrtV87okXsrknR22sd6M6I00d7E47X/7YZGgieGG/9WHTaAyjmZdr2rglW55GY3deF1DtrDQ/M+zF61jRPhAFl2caMUQ7vS7GqLJRzwoByaWf83B0P5Nc9dQcP/7gaG0GjaE3rtqj4QEA6qM44eSzDwKgsSBy8/IESsoqNR8U0zkqyowqz3IFaIQYWm2cOpg0vTPVICuFD6/89+bUzB4T9ryrdMMDo6Wzc3cOnUi78c/1iiuNAQCaFIT4JoPTfd7a8fST36y+mlD1dmpSzoud87cG91z1jXMjujqIRuNmZuUSgsLs7Ia7GQ4AFBo/JyuPz82JuHblcTY1SIihZWykSRc+/DGqvoc/AgBUoTjhpHFeEw8S4ifc3PHdltPvVbs5D+9m29pEszgpMiTg1uVbsXrDFm9cN6m0S81GoPjRz2O/9nkXFhyVwaWxtFpZW1q6bLm2aUht1wqCgim7BNxo5qXwGq+JX2o/eGdo1WvieRF3T90MSk5NTUvPaT1h0+xu1S+tzot5ef/+kxcBIRkqrbuPnjLO4cXcNl8ebVnThe4ij0pkvr148LDvqxQBi89TtRo8bZ57L6OSMYiMN1cvPYkgZyctQ9Bh5veT7Yi4+6d8rr+OK9axdOgxzGWwtRiHxPWskBoQmUEX9h3w+5gjIGgcfateLtMn9zSk5p3ICLrzIKJIWUWZTecXFRUW00y6Du8svCeYSH59/WmsQEVViV6cX6DRblgvC+FqrGMx45+cu+Yfl5qanpat/8V3i/sK3l4+fu5BhMDaZe70PqXj1Ckv+PJB71sxal1c503uUv1h2PKQ82zP/365zu+/bMuSvi0qpp/p7dJq+sV8zqBd4dcX1f9AGAAABQwnpVfVQFPCz4nyv+t37tj+PXuPnLx443FwI+wNoyAjMSk1I6egiMfjFuRkpiUlpqMjiSZEkmviCx7/MXvCsPb6TDpddeyxqh8HbtytzeNsLfovO3IvNDUjPvCm1/o5C37dML7lpxe6iz4qP+3BzyPMWnZdcCxQeK9IUez17/oZGA7c+DCj5N3oi+s9XAba6jLpTLN518IurJo6d9ulV1HJ8W/OLHXS1LCff16Mq63FvCaeG+I1e+yC/Q/jSrruyX1/al5nLb2eK65QXRzwoi79NNfDub0Og06jc0z7Tl15LKh0yXjvD81wNGDT6Uwdu6HTtt3LqW8xuYFHvp4yqqeFOoNG5t3Xl1a6zv/j0pEF7VQY6gO2B1ftV+hThYG7Z836/U5U7KkphtoDdnyob3z5ybzgacyk0ZW7b3rbeGYKABo7BQsnCPEAIHVUZqVzjDv06/+pfo6mKvQab2zlBm5wYlcL8bxw70lmnBYDNz+v3DNb0bs/husxqvUbKcao3OA9X+izdJ33RVZEcV7wtv5qbJult3OpAQKu//cd2UyT0TOWbLhdEnpLZJ9102PUMPe1Ey/Ep5+YoKti0Hm2T1RZAC18sc6RwzAYX/k2TX7s/lHaDGb1u9n58buHGo/4411pZ26iLWaBr/DG3x4TZs3eE8wVFN5ZZq3E0Oi/9X3d+bfo+Y8Tl15LJ1/lnp2iS1dyPlSximrE+7B9kDZbnLPiDIaq3Tei90tXpvS+Vjrb8qvLqRXLDQDQtOBHRgCQFbr2gFVHT37q2PqRwms/asDQ0FCrevc1EX3k62Vn4y1n/ry0S+XrVzh2npN7sqtcDSjOqCnn1v9wLU1v9Bw384o5YVq5TujOCDm2zy+HGkLX0FCnEYkPMh3n9at46K+KlZUpkxca9E42j2si8tMzCgqT31y/H1J2r6ZSx9EjrJkp/52/WfHMFIaJ69zxRrS4S0f9MqhBQvn+79TmbZlnJ/z5V9TFZGhqqDF4r15yxntYs2hK/be/iYmLvLHcts6+43Ku7XvZefYQHRot787Ve5kMkzaW9fQKytS27TNsuJgGdS67ikhkGdfWb/LL1un/w7FtzpWusAEAaFpQ3wBAZpjKmgaGn2qprcIUsaMk/gfvv6+l0w37De1c/aJEJrNq/RJjVFrGVZ+ryQTLvmvXKo/LY+jZ2xnRM/2fBVV+UKCAYdu9Z+UwSOcosWmC4oJ82TwWlGEy68BV78PnfH8aWL4gdF0dLZqgKCOt8mPANYbNdrNmJPkePB1TNpRIuXgmfZinQ2nuFWsxaZxOvXpSMVxJ31C3nujMj8+0cXMT5vxMv+O+8XTrCVN71NdDfMuRG075Xr0muqtX/9ntbiNWP9REwvnlS7zSu6w+d25VD5GetQ0AoJgQ4gGgEct+/DiQJ2CYmFV+gFnNxBi1+F1AUL6ATou5vH7h/Mq+3ufPU1VnCaqmc4aGtk4NQZIgpNctAJF8ZvXGO2Vn9pVbD3CfPsaOHnLXZ8eq2ZPGjps8Y82FSDKoC6pOktN1pmc3pZxbh7zfl56z50ed9GWOdTUrreziLSajhZGxGLe+M208lk8yFz5l7tJxv1RWp8nTnOrL8HKQ579t6rxr5ut8r/zYvyFuswUAkB8UOQBovPiZmTl8MrdylOrtHECMUWmC/PxCAY2u3WvBrj1V7PV5GJOdEfhbv6p5lC7zByzwPj4PyuGUTYbI8D+0sK+5Wf9vbzIHLv/T5+zJwz+7WNRQrpnW02YM1ix+5X3wifAAgBfofdvIbZRu6ZtiLiadw2GLv5xEwj/Hr2dyuk12sxP3qhep44UfnTX5oMGm/3zX9kGCB4AmD3UOABovpr6RgfAe2Py8vPrOeosxKo1lambEoAlyMzO51JAGRqQHBXONTEpjcP6LX8cO+epA6qgT/g8PLBlup69ce6FmGE+cPcZQEHpy39VMWv7dI687evYrvzJdDovJjzztcy9Ptc+USW3qv+iFH+k9s4uttZXorG06Om99WekpTrUjkvyWu/+pu/m/47MdytYA78PpgzeSP3lwBgBAk4AQDwCNmGr/IT3V6Pzo0NB6rz8XY1Sm9bAhNmxacXBg1avCS+QH3XkYL9/gRyT4+gZom+gLCzKRdHrjlvuZWqPW/jzaqCIYFxeXB/Hci6u/v069ptG0Rs6ebMlIvHTwTJCvT+Igj/YVJ8Rlv5j8YB+fx0Wag9zGt2KQc3505oJzFXfeforNZrGVOOJgs9nV72eoUc7TzbO2Mdee3z3WrGKdEWl3z95NVcVuDgCaJlQ3AJCZWk+Ji/yQOYbJ1GXT2jDTb126Ue3x+byw8FjhVeLlf0qMUWksp4UrRukTIeePP6wWOomYExv3vhXp3K+0EIm+63+9qWxsXBK/eWFv3+cSTDN7e62Sd0sVfPgQWfbkUW5qVEwm9Zqk1HPmtM6c7OvbPPfyvnQ1r3xCXLzFFHWbVOBHXrkawNMeMnmMIZnhY8//xxg4UI16rwZMkyn7Hr9++050b9++uLCsc33X6RQHH1yyOWuB9+bh+gSvRHFRYW5KxDOvS0kWjeYRdwAAUoYQDwBSVxgXn0pGQkFeUlz6p3mYnxmbmE2GaiI9IS6v6rlgXnJKukDAy8qo6IRFY/gvXuv68s6s/c6v4sIIIuPBz+tPxhA0fnJ4aEZZuhVjVIaJ+54j33ROP7x4+cWY8lkkMp79vvI/x9XTqTtDhfOTJqARackplZ/dz01JziCHZqeni/pEf2qF0Arz86usj+LkNxc2uw2adjiUMGzVqiSsstp2c9Jj8MLu3vhYPmrO/a0XlQd34hDx0dFcXmSMwMSUekeI1c5j5gB1bmiq9ZQxJSfzK4i4mAXJKVkEkZ0UnyPqApUSZGblCFgOfXrrkOvo2s4HDgvHlF2PLzdE/MVFLou8LvzqbKLELqOkrKJh0Kbnqvt6Npb1HQIAACgoeqVzUwAAn4Uf9vfUcdsexCVlFdNYTAZNwOfxmWr6Rm0m7bq9eYhS8f31I+Yd+5CQksNjsJh0GsHnCtjaLY2d5h8/97Xq/kmjNj9Ozc7n0+h8Pk1Vr8eKi77LqYtDeDHXNi767gqtj+sYJ+3UwKcBiQbjV1kddZx5sYhGZ6nqd1vpe3t9t5LbNMUYlVYU4btx8dqzWe1HO3c3Zye/fhTEGL5uy5zOWuSfeff7uLE7XqRl5fPpdAGNqaal3/e7a15dz7hM2hWQml1ACIdytPT0+3//1tuj5K/VgFwhbi5b7kTGpuRxhbWWTudombQ20ebQaQJeQWZqYnIa+QY5Il3b9VTcyYmlF3Pnvj6wdP6GC0n20xa6OulkvX/6RjBo7foBwauGu+1Pb9vDcdCiP39xMa4c19PPuHXYZHHhxaYuNUXWOhaz6M7qAbOPRaTnFArodIJPsDQNWg1dd+3gNCORzvDwPuxxGfK7yqKljlH34vv8/PtUi/qvjJeu/Iuercd5p1Q9FizDbr/m0aua1wkAgMJDiAcARUHkJ37wf5vIMHFwtDNQ4se9vBNSpK1H0tfX11GtEh/FGJVGFCZ9eBkYT+jbOLY3VRMpvMoBkRMV+CY0IV+5lX0nB+PSi1SI3IToLHVTE43qUTnt9Kx58WtOLrWsI0PLaDH5GR+f+ieo2nTtZFLPs54AAECaEOIBABQbP2L35HVau72mtWwsRyAAACBzKPkAAAom596m0d37eh4IKrnMvfjV4RtGHmOR4AEAmhVUfQAAxcJPfnL132ePLt98VyDsmmXf7xGjlg5Sp94EAIDmAZfTAAAoGH60z8yxf+t+vbJf0eOLt4iJ239yFu1GVAAAaDIQ4gEAFFDOx7v/Pk/ScOg3oKOhEjUMAACaD4R4AAAAAAAFg19gAQAAAAAUDEI8AAAAAICCQYgHAAAAAFAoNNr/AW63KM4RgXPgAAAAAElFTkSuQmCC)\n",
        "\n",
        "\n",
        "\n",
        "[VN]\n",
        "\n",
        "<h3> Xây dựng một mạng nơ ron tích chập </h3>\n",
        "\n",
        "\n",
        "Hãy xây dựng một mạng nơ ron tích chập gồm ba tầng ẩn\n",
        "\n",
        "1. Tầng vào là một tensor kích thước 28x28 tương ứng hình ảnh đầu vào\n",
        "2. Tầng ẩn là tầng tích chập gồm nhân kích thước 7x7, bước nhẩy=1, không thêm viền với số bộ lọc là 128 với hàm kích hoạt là ReLU\n",
        "3. Tầng ẩn là tầng giảm mẫu max gồm nhân kích thước 3x3, bước nhẩy=2, không thêm viền\n",
        "4. Tầng ẩn tuyến tính gồm 64 nơ ron, sau khi làm phẳng đầu ra của tầng trước, với hàm kích hoạt tanh\n",
        "5. Tầng ra là tầng softmax gồm 10 nơ ron chỉ lớp\n",
        "\n",
        "\n",
        "\n",
        "\n",
        "\n",
        "\n",
        "\n",
        "\n",
        "\n",
        "\n",
        "\n"
      ],
      "metadata": {
        "id": "MKK3iV76aPIh"
      }
    },
    {
      "cell_type": "code",
      "source": [
        "# A Convolutional Neural Network\n",
        "# Một mạng nơ ron tích chập\n",
        "\n",
        "class CNN(nn.Module):\n",
        "    def __init__(self):\n",
        "        super(CNN, self).__init__()\n",
        "        # TODO: Define the convolutional layer\n",
        "        # TODO: Định nghĩa lớp ẩn tích chập\n",
        "        self.conv1 = # TODO\n",
        "\n",
        "        # TODO: Define the max pooling layer\n",
        "        # TODO: Định nghĩa lớp giảm mẫu max\n",
        "        self.pool1 = # TODO\n",
        "\n",
        "        self.flatten = nn.Flatten()\n",
        "        self.fc1 = nn.Linear('''TODO''', 64)\n",
        "        self.relu = nn.ReLU()\n",
        "\n",
        "        # TODO: Define the Linear layer that outputs the classification\n",
        "        # TODO: Định nghĩa lớp tuyến tính tạo đầu ra softmax\n",
        "        self.fc2 = # TODO\n",
        "\n",
        "\n",
        "    def forward(self, x):\n",
        "        # convolutional and pooling layers\n",
        "        # tầng tích chập và giảm mẫu\n",
        "        x = self.conv1(x)\n",
        "        x = self.relu(x)\n",
        "        x = self.pool1(x)\n",
        "\n",
        "        # TODO: Implement the rest of forward pass\n",
        "        # TODO: Cài đặt phần còn lại của bước tiến\n",
        "        '''TODO'''\n",
        "\n",
        "        return x\n",
        "\n",
        "# Create the model by calling the subclass\n",
        "# Tạo mô hình bằng cách gọi lớp con\n",
        "cnn_model = CNN().to(device)"
      ],
      "metadata": {
        "id": "9BZK1Nh-gvn6"
      },
      "execution_count": null,
      "outputs": []
    },
    {
      "cell_type": "markdown",
      "source": [
        "[EN]\n",
        "\n",
        "The rest implementation will be nearly the same as the part 1\n",
        "\n",
        "[VN]\n",
        "\n",
        "Phần cài đặt còn lại sẽ gần như giống hệt phần 1\n",
        "\n",
        "\n",
        "\n"
      ],
      "metadata": {
        "id": "NR78AMmFu77O"
      }
    },
    {
      "cell_type": "code",
      "source": [
        "# Define loss function and optimizer\n",
        "# Định nghĩa hàm mất mát và bộ tối ưu\n",
        "# TODO:"
      ],
      "metadata": {
        "id": "13z30nz2WavK"
      },
      "execution_count": null,
      "outputs": []
    },
    {
      "cell_type": "code",
      "source": [
        "# Train model\n",
        "# Huấn luyện mô hình\n",
        "# TODO:"
      ],
      "metadata": {
        "id": "S8OqWol1WsNz"
      },
      "execution_count": null,
      "outputs": []
    },
    {
      "cell_type": "markdown",
      "source": [
        "[EN]\n",
        "\n",
        "<h3> Evaluate accuracy of the trained models on the test dataset </h3>\n",
        "\n",
        "After having trained the models, they could asked to make predictions on the test dataset. The testset_loader will be employed to evaluate accuracy of our models by checking the match between their predictions and the test labels.\n",
        "\n",
        "[VN]\n",
        "\n",
        "<h3> Đánh giá độ chính xác của các mô hình đã huấn luyện trên tập dữ liệu kiểm tra </h3>\n",
        "\n",
        "Sau khi thực hiện huấn luyện các mô hình, chúng được yêu cầu tạo các dự đoán trên tập kiểm tra. Bộ tải testset_loader được sử dụng để đánh giá độ chính xác của các mô hình bằng cách kiểm tra sự giống nhau giữa các giá trị dự đoán và nhãn kiểm tra.\n"
      ],
      "metadata": {
        "id": "rF9I66MM2IUy"
      }
    },
    {
      "cell_type": "code",
      "source": [
        "# Evaluate model performance on the test dataset, either MLP or CNN\n",
        "# Đánh giá hiệu quả mô hình trên tập kiểm tra, hoặc MLP hoặc CNN\n",
        "model.eval()\n",
        "correct_pred = 0\n",
        "# Disable gradient calculations when in inference mode\n",
        "# Không tính đạo hàm trong khi suy dẫn\n",
        "with torch.no_grad():\n",
        "  for images, labels in testset_loader:\n",
        "    # TODO: ensure evaluation happens on the GPU\n",
        "    # TODO: cần chắc đánh giá thực hiện trên GPU\n",
        "    images, labels = # TODO\n",
        "    # TODO: feed the images into the model and obtain the predictions (forward pass)\n",
        "    # TODO: đưa hình ảnh vào mô hình và lấy kết quả dự đoán (bước tiến)\n",
        "    outputs = # TODO\n",
        "\n",
        "    loss = loss_function(outputs, labels)\n",
        "\n",
        "    # TODO: identify the digit with the highest probability prediction\n",
        "    # TODO: xác định chữ số dự đoán với xác suất dự đoán cao nhất\n",
        "    predicted = # torch.argmax('''TODO''')\n",
        "\n",
        "    # TODO: tally the number of correct predictions\n",
        "    # TODO: cộng các dự đoán đúng\n",
        "    correct_pred += #TODO\n",
        "\n",
        "    # TODO: tally the total number of predictions\n",
        "    # TODO: cộng tổng các dự đoán\n",
        "    total_pred += #TODO\n",
        "\n",
        "# Compute average accuracy\n",
        "# Tính giá trị trung bình độ chính xác\n",
        "test_acc = correct_pred / total_pred\n",
        "\n"
      ],
      "metadata": {
        "id": "zhLrJ8Cp4tVJ"
      },
      "execution_count": null,
      "outputs": []
    }
  ]
}